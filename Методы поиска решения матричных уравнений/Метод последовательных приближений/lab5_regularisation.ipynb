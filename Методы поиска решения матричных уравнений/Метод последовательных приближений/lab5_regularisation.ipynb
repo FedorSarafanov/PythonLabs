{
 "cells": [
  {
   "cell_type": "markdown",
   "metadata": {},
   "source": [
    "# Отчет по лабораторной работе №5. Численное интегрирование и решение СЛАУ. \n",
    "## Выполнил Сарафанов Ф.Г., 430 группа/2018, 19 вариант\n"
   ]
  },
  {
   "cell_type": "markdown",
   "metadata": {},
   "source": [
    "\n",
    "## Итерационные методы решения СЛАУ\n",
    "Решаем систему\n",
    "\n",
    "$$Ax=b$$ \n",
    "\n",
    "Итерационными методами называются приближенные методы, в которых решение системы получается как предел последовательности векторов $\\{x^k\\}_{k=0}^{\\infty}$, каждый последующий элемент которой вычисляется по некоторому единому правилу. Начальное приближение решения $x^0$ в этой программе выбирается как столбец свободных членов $b$.\n",
    "\n",
    "Последовательность $\\{x^k\\}_{k=0}^{\\infty}$ называется итерационной, а её элементы последовательными итерациями (приближениями).\n",
    "\n",
    "Важной характеристикой итерационного процесса является скорость схожимости итерационной последовательности. Говорят, что итерация $x^k$ является с точностью $\\varepsilon$ приближенным решением системы, если\n",
    "\n",
    "$$||x^k-x^0||<\\varepsilon,$$\n",
    "\n",
    "где $x^0$- точное решение системы.\n",
    "\n",
    "Как правило, для итерационного метода решения системы существует такая последовательность невырожденных матриц $H_k$, $k=1,2\\dots$, что правило построения элементов итерационной последовательности записывается в виде:\n",
    "\n",
    "$$x^{k+1}=T_kx^k+H_kb$$\n",
    "\n",
    "Вектор $\\varphi^k=x^k-x^0$ называется вектором ошибки, а вектор $r^k=Ax^k=b$ - вектором невязки.\n",
    "\n",
    "Итерационный метод называется стационарным, если матрица $H_k$ не зависит от номера шага k.  В противном случае метод называется нестационарным. Для того, чтобы стационарный итерационный процесс\n",
    "\n",
    "$$x^{k+1}=Tx^k+Hb$$\n",
    "\n",
    "сходился, достаточно, чтобы ля какой-либо одной нормы матрицы $T$ выполнялось неравенство\n",
    "\n",
    "$$||T||<1.$$\n",
    "\n",
    "## Метод последовательных приближений\n",
    "\n",
    "В данном методе $H_k=E$, $T_k=A-E\\equiv\\alpha$, или если задать систему уравнений сразу в виде\n",
    "\n",
    "$$x=\\alpha\\cdot x +\\beta,$$\n",
    "\n",
    "то итерационный процесс записывается в первичных обозначениях:\n",
    "\n",
    "$$x^{k+1}=\\alpha x^k+\\beta$$\n",
    "\n",
    "В программе выполняется достаточное условие сходимости итерационного процесса \n",
    "\n",
    "$$||T||\\equiv||\\alpha||<1$$"
   ]
  },
  {
   "cell_type": "markdown",
   "metadata": {},
   "source": [
    "## Постановка задачи"
   ]
  },
  {
   "cell_type": "markdown",
   "metadata": {},
   "source": [
    "Дана система уравнений \n",
    "\n",
    "$$n^3x_i=\\sum\\limits_{j=1}^n \\frac{j^2+\\sin^2 j}{\\ln(1+i+j)}x_j+\\int\\limits_1^3 \\ln(\\ln(10+i+\\cos(t))) dt$$\n",
    "\n",
    "где $i=1\\ldots10000$.\n",
    "\n",
    "1. Вычислить столбец правой части -- определенных интегралов рекуррентным методом трапеций с относительной точностью 0,01.\n",
    "\n",
    "2. Для  i=2 построить график подынтегральной функции, а также график зависимости значения интеграла от номера итерации используемого метода численного интегрирования.\n",
    "\n",
    "4. График зависимости свободных членов системы от i.\n",
    "\n",
    "5. Решение систему уравнений заданным методом последовательных приближений для числа уравнений вплоть до 10000  с относительной точностью 0,001. \n",
    "\n",
    "6. Число обусловленности линейной системы.\n",
    "\n",
    "6. Построить график решения от i, график зависимости невязки от i,а также график зависимости нормы решения от номера итерации."
   ]
  },
  {
   "cell_type": "markdown",
   "metadata": {},
   "source": [
    "Импорт библиотек"
   ]
  },
  {
   "cell_type": "code",
   "execution_count": 2,
   "metadata": {},
   "outputs": [],
   "source": [
    "from numpy import cos,sin,pi,log,sort,inf,linspace,abs,sum,append,array\n",
    "import numpy as np\n",
    "from matplotlib import pyplot as plt\n",
    "from matplotlib.ticker import FormatStrFormatter\n",
    "import time"
   ]
  },
  {
   "cell_type": "markdown",
   "metadata": {},
   "source": [
    "Зададим условия расчетов:"
   ]
  },
  {
   "cell_type": "code",
   "execution_count": 3,
   "metadata": {},
   "outputs": [],
   "source": [
    "a,b=1,3 # Пределы интегрирования определенного интеграла\n",
    "inteps=0.01 # Относительная погрешность расчета интеграла\n",
    "eps=0.001 # Условие сходимости |xk-xkk|<eps\n",
    "n=800"
   ]
  },
  {
   "cell_type": "markdown",
   "metadata": {},
   "source": [
    "Задаем формулы для системы уравнений:"
   ]
  },
  {
   "cell_type": "code",
   "execution_count": 4,
   "metadata": {},
   "outputs": [],
   "source": [
    "def F(i,t):\n",
    "\treturn log(log(10+i+cos(t)))\n",
    "\n",
    "def coeff(i,j):\n",
    "\treturn (j**2+sin(j)**2)/log(1+j+i)\n",
    "\n",
    "def sila(i):\n",
    "\tdef Fi(t):\n",
    "\t\treturn F(i,t)\n",
    "\treturn trapz(Fi,a,b,inteps)"
   ]
  },
  {
   "cell_type": "markdown",
   "metadata": {},
   "source": [
    "Реализуем отображение процесса заполнения матрицы, так как процесс может быть долгим, разумно знать его готовность"
   ]
  },
  {
   "cell_type": "code",
   "execution_count": 5,
   "metadata": {},
   "outputs": [],
   "source": [
    "def printProgressBar (iteration, total, prefix = '', suffix = '', decimals = 1, length = 100, fill = '█'):\n",
    "    percent = (\"{0:.\" + str(decimals) + \"f}\").format(100 * (iteration / float(total)))\n",
    "    filledLength = int(length * iteration // total)\n",
    "    bar = fill * filledLength + '-' * (length - filledLength)\n",
    "    print('\\r%s |%s| %s%% %s' % (prefix, bar, percent, suffix), end = '\\r')\n",
    "    if iteration == total: \n",
    "        print()"
   ]
  },
  {
   "cell_type": "markdown",
   "metadata": {},
   "source": [
    "Реализация реккурентного вычисления определенного собственного интеграла методом трапеций:"
   ]
  },
  {
   "cell_type": "code",
   "execution_count": 6,
   "metadata": {
    "scrolled": true
   },
   "outputs": [],
   "source": [
    "trap=[]\n",
    "trapf=[]\n",
    "def trapz (f,a,b,eps,integ0=inf,S=[],it=0,plot=False):\n",
    "\tif len(S)==0:\n",
    "\t\tS=linspace(a,b,3)\n",
    "\th=S[1]-S[0]\n",
    "\tinteg=sum([(f(S[i])+f(S[i+1]))/2*h for i in range(0,len(S)-1)])\n",
    "\tif abs((integ-integ0)/integ)>eps:\n",
    "\n",
    "\t\tSnew=S\n",
    "\t\tfor i in range(0,len(S)-1):\n",
    "\t\t\tSnew=append(Snew,(S[i+1]+S[i])/2)\n",
    "\t\tSnew=sort(Snew)\n",
    "\t\tif plot:\n",
    "\t\t\ttrap.append(it)\n",
    "\t\t\ttrapf.append(integ)\n",
    "\t\treturn trapz(f,a,b,eps,integ0=integ,S=Snew,it=it+1,plot=plot)\n",
    "\telse:\n",
    "\t\tif plot==True:\n",
    "\t\t\tplt.title('Значение интеграла от номера итерации при i=2')\n",
    "\t\t\tplt.plot(trap,trapf,'o-')\n",
    "\t\t\tplt.show()\n",
    "\t\treturn integ"
   ]
  },
  {
   "cell_type": "markdown",
   "metadata": {},
   "source": [
    "Для больших вычислений время расчета матрицы превышает время поиска решения, и для экономии времени при повторных расчетах будем кэшировать результаты на диск"
   ]
  },
  {
   "cell_type": "code",
   "execution_count": 7,
   "metadata": {
    "scrolled": true
   },
   "outputs": [
    {
     "name": "stdout",
     "output_type": "stream",
     "text": [
      "Матрицы загружены!\n"
     ]
    }
   ],
   "source": [
    "start_time = time.time()\n",
    "try:\n",
    "    alpha=np.load('data/alpha_arr_n'+str(n)+'.npy')\n",
    "    beta=np.load('data/beta_arr_n'+str(n)+'.npy')\n",
    "    x1=np.load('data/x_arr_n'+str(n)+'.npy')\n",
    "except:\n",
    "    \n",
    "    beta=np.zeros(n,dtype=np.float32)\n",
    "    \n",
    "    for i in range(1,n+1):\n",
    "#         printProgressBar(i, n, prefix = 'Расчет beta: ', suffix = 'Готово', length = 50)\n",
    "#         time.sleep(0.02)\n",
    "        beta[i-1]=sila(i)/(n**3-coeff(i,i))\n",
    "    \n",
    "    t0= time.time()\n",
    "    A=np.zeros([n,n], dtype=np.float32)\n",
    "\n",
    "    for i in range(1,n+1):\n",
    "        printProgressBar(i, n, prefix = 'Расчет alpha:', suffix = 'Готово', length = 50)\n",
    "        ii=coeff(i,i)\n",
    "        for j in range(1,n+1):\n",
    "            if i==j:\n",
    "                A[i-1][j-1]=0\n",
    "            else:\n",
    "                A[i-1][j-1]=coeff(i,j)/(n**3-ii)\n",
    "    t1= time.time()\n",
    "\n",
    "    print('Приступаю к расчету решения встроенной функцией')\n",
    "    E=np.identity(n)\n",
    "    x1=np.linalg.solve(E-A, beta)\n",
    "    t2= time.time()\n",
    "    np.save('data/alpha_arr_n'+str(n),A)\n",
    "    np.save('data/beta_arr_n'+str(n),beta)\n",
    "    np.save('data/x_arr_n'+str(n),x1)\n",
    "    print('Время работы %s с'%(t2-t0))\n",
    "try:\n",
    "    alpha=np.load('data/alpha_arr_n'+str(n)+'.npy')\n",
    "    beta=np.load('data/beta_arr_n'+str(n)+'.npy')\n",
    "    x1=np.load('data/x_arr_n'+str(n)+'.npy')\n",
    "    print('Матрицы загружены!')\n",
    "except:\n",
    "    print('Автоматическая генерация не сработала... Все точно в порядке?')\n",
    "    if 1!=1:\n",
    "        print('Нет! Все совсем не в порядке!')\n",
    "        import sys\n",
    "        sys.exit() "
   ]
  },
  {
   "cell_type": "code",
   "execution_count": 10,
   "metadata": {
    "scrolled": false
   },
   "outputs": [
    {
     "name": "stdout",
     "output_type": "stream",
     "text": [
      "[-4.4408921e-16]\n",
      "2.0313283024200678e-07\n",
      "2.0313283024200678e-07\n"
     ]
    }
   ],
   "source": [
    "# if np.linalg.norm(alpha,ord=1)<1:\n",
    "# \tprint('Условия сходимости выполнены')\n",
    "E=np.identity(n)\n",
    "A=E-alpha\n",
    "b=beta\n",
    "\n",
    "\n",
    "\n",
    "# t1=time.time() - start_time\n",
    "from numpy.linalg import inv,norm\n",
    "\n",
    "def F(SmallParameter):\n",
    "    G=E*SmallParameter\n",
    "    pseudoX=inv(A.T@A+G.T@G)@A.T@b\n",
    "    r=A@pseudoX-b\n",
    "    return norm(r)\n",
    "\n",
    "from scipy.optimize import minimize\n",
    "\n",
    "SmallParameter=minimize(F,0.5,method='Nelder-Mead').x\n",
    "G=E*SmallParameter\n",
    "X=inv(A.T@A+G.T@G)@A.T@b\n",
    "print(SmallParameter)\n",
    "print(norm(X))\n",
    "print(norm(x1))\n",
    "# print('Количество итераций %s'%N)\n",
    "# print('Норма решения %s, норма решения встроенной функцией %s'%(np.linalg.norm(Xk), np.linalg.norm(x1)))\n",
    "# if n<=10**3:\n",
    "#     print('Число обусловленности',np.linalg.cond(E-alpha))"
   ]
  },
  {
   "cell_type": "code",
   "execution_count": null,
   "metadata": {},
   "outputs": [],
   "source": []
  }
 ],
 "metadata": {
  "kernelspec": {
   "display_name": "Python 3",
   "language": "python",
   "name": "python3"
  },
  "language_info": {
   "codemirror_mode": {
    "name": "ipython",
    "version": 3
   },
   "file_extension": ".py",
   "mimetype": "text/x-python",
   "name": "python",
   "nbconvert_exporter": "python",
   "pygments_lexer": "ipython3",
   "version": "3.7.0"
  }
 },
 "nbformat": 4,
 "nbformat_minor": 2
}
