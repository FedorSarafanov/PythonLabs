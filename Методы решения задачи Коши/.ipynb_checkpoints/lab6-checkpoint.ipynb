{
 "cells": [
  {
   "cell_type": "markdown",
   "metadata": {},
   "source": [
    "# Отчет по лабораторной работе №6. Задача Коши и решение систем ДУ.\n",
    "## Выполнил Сарафанов Ф.Г., 430 группа/2018, 19 вариант\n"
   ]
  },
  {
   "cell_type": "markdown",
   "metadata": {},
   "source": [
    "## Постановка задачи\n",
    "\n",
    "Рассмотрим численное решение уравнения \n",
    "\n",
    "$$\n",
    "y''+y'-4y=t\\cdot e^{-t},\\quad y(0)=1, y'(0)=0,\\quad t\\in[0,2]\n",
    "$$\n",
    "\n",
    "запишем его в виде системы ДУ 1-го порядка:\n",
    "\n",
    "$$\n",
    "\\begin{cases}\n",
    "y'=z\\\\\n",
    "z'=-z+4y+t\\cdot e^{-t}\n",
    "\\end{cases}%,\\qquad i=2,3,\\ldots, n\n",
    "$$\n",
    "\n",
    "В программе используется векторный подход: массив переменных <code>Y=[y z], y=Y[0], z=Y[1]</code>, и система имеет вид\n",
    "\n",
    "$$\n",
    "\\begin{cases}\n",
    "Y[0]'=Y[1]\\\\\n",
    "Y[1]'=-Y[1]+4\\cdot Y[0]+t\\cdot e^{-t}\n",
    "\\end{cases}\n",
    "$$\n",
    "\n",
    "Здесь сопоставляется вектор производных и вектор правых частей\n",
    "\n",
    "$$\n",
    "Y'=f(t,Y),\\; \\text{где}\\;f(t,Y)=\n",
    "\\begin{bmatrix}\n",
    "Y[1]\\\\\n",
    "-Y[1]+4\\cdot Y[0]+t\\cdot e^{-t}\n",
    "\\end{bmatrix}\n",
    "$$\n",
    "\n",
    "## Метод Тейлора 3-го порядка\n",
    "\n",
    "Можно показать, что в векторном виде итерационный процесс решения методом Тейлора 3-го порядка будет записываться в виде\n",
    "\n",
    "$$\n",
    "Y^{n+1}=Y^n+hf+\\frac{h^2}{2}\\left(\\frac{\\partial f}{\\partial t}+Jf\\right)+\\frac{h^3}{6}\\left(\\frac{\\partial ^2f}{\\partial t^2}+\\frac{\\partial J}{\\partial t}f +J\\frac{\\partial f}{\\partial t}\\right)\n",
    "$$\n",
    "\n",
    "Где все функции (вектора, матрицы) берутся в точке $Y^n, t^n$."
   ]
  },
  {
   "cell_type": "markdown",
   "metadata": {},
   "source": [
    "Импорт библиотек"
   ]
  },
  {
   "cell_type": "code",
   "execution_count": 17,
   "metadata": {},
   "outputs": [],
   "source": [
    "from sympy import Symbol,diff,exp,cos,sin,Matrix,var,symbols\n",
    "import sympy as sym\n",
    "import numpy as np\n",
    "from matplotlib import pyplot as plt\n",
    "from scipy.integrate import solve_ivp\n",
    "from scipy import interpolate\n",
    "from numpy.linalg import norm"
   ]
  },
  {
   "cell_type": "markdown",
   "metadata": {},
   "source": [
    "Зададим условия расчетов:"
   ]
  },
  {
   "cell_type": "code",
   "execution_count": 2,
   "metadata": {},
   "outputs": [],
   "source": [
    "n=2 # количество переменных\n",
    "y00=np.array([1,0]) # начальные условия y(0)=1,y'(0)=0\n",
    "Tn0,tmax0=0,2 # временной интервал\n",
    "h=0.5 # начальный шаг\n",
    "eps=0.03 # точность"
   ]
  },
  {
   "cell_type": "markdown",
   "metadata": {},
   "source": [
    "Задаем символьные переменные для расчета всех необходимых величин:"
   ]
  },
  {
   "cell_type": "code",
   "execution_count": 3,
   "metadata": {},
   "outputs": [],
   "source": [
    "t=Symbol('t')\n",
    "y = sym.Matrix(n, 1, lambda i,j:var('y[%d]' % (i)))"
   ]
  },
  {
   "cell_type": "markdown",
   "metadata": {},
   "source": [
    "Задаем правую часть уравнения"
   ]
  },
  {
   "cell_type": "code",
   "execution_count": 4,
   "metadata": {},
   "outputs": [],
   "source": [
    "def f(T,y):\n",
    "    return Matrix([\\\n",
    "                y[1],\\\n",
    "                -y[1]+4*y[0]+T*exp(-T),\\\n",
    "                ])"
   ]
  },
  {
   "cell_type": "markdown",
   "metadata": {},
   "source": [
    "Чтобы не загружаться излишними символьными вычислениями, вычислим символьно все нужные функции и преобразуем в численный вид"
   ]
  },
  {
   "cell_type": "code",
   "execution_count": 5,
   "metadata": {},
   "outputs": [],
   "source": [
    "A='def pfpt(t,y):\\n\\treturn np.array(%s)'%(str(np.array2string(np.array(f(t,y).diff(t)).T[0],separator=', ')).replace('Matrix(',''))+'\\n'+\\\n",
    "    'def p2fpt2(t,y):\\n\\treturn np.array(%s)'%(str(np.array2string(np.array(f(t,y).diff(t).diff(t)).T[0],separator=', ')).replace('Matrix(',''))+'\\n'+\\\n",
    "    'def J(t,y):\\n\\treturn np.array(%s)'%(str(f(t,y).jacobian(y)).replace('Matrix(',''))+'\\n'+\\\n",
    "    'def model(t,y):\\n\\treturn np.array(%s)'%(str(np.array2string(np.array(f(t,y)).T[0],separator=', ')).replace('Matrix(',''))+'\\n'+\\\n",
    "    'def pJpt(t,y):\\n\\treturn np.array(%s)'%(str(f(t,y).jacobian(y).diff(t)).replace('Matrix(',''))\n",
    "\n",
    "exec(A.replace('))',')',100))"
   ]
  },
  {
   "cell_type": "markdown",
   "metadata": {},
   "source": [
    "Зададим массив времени и массив координат решения:"
   ]
  },
  {
   "cell_type": "code",
   "execution_count": 6,
   "metadata": {},
   "outputs": [],
   "source": [
    "Time=np.array([])\n",
    "Y = np.empty((0,n),np.float32)"
   ]
  },
  {
   "cell_type": "markdown",
   "metadata": {},
   "source": [
    "Итерационный процесс:"
   ]
  },
  {
   "cell_type": "code",
   "execution_count": 7,
   "metadata": {},
   "outputs": [
    {
     "name": "stdout",
     "output_type": "stream",
     "text": [
      "итерация 1 9\n",
      "итерация 2 17\n",
      "итерация 3 33\n",
      "погрешность 0.21015728\n",
      "итерация 4 65\n",
      "погрешность 0.03470644\n",
      "итерация 5 129\n",
      "погрешность 0.044172414\n",
      "итерация 6 257\n",
      "погрешность 0.05174545\n",
      "итерация 7 513\n",
      "погрешность 0.044470314\n",
      "итерация 8 1025\n",
      "погрешность 0.034323636\n",
      "итерация 9 2049\n",
      "погрешность 0.025303021\n"
     ]
    }
   ],
   "source": [
    "N=0\n",
    "while True:\n",
    "    h=h/2\n",
    "\n",
    "    yn=y00\n",
    "    Tn=Tn0\n",
    "    tmax=tmax0  \n",
    "\n",
    "    N+=1\n",
    "\n",
    "    OldTime=Time\n",
    "    OldY=Y\n",
    "\n",
    "    Time=np.array([])\n",
    "    Y = np.empty((0,n),np.float32)\n",
    "\n",
    "    while Tn<=tmax:\n",
    "\n",
    "        Tn=Tn+h\n",
    "        yo=yn\n",
    "        Time=np.append(Time,Tn)\n",
    "\n",
    "        Y=np.append(Y,[yo],axis=0)\n",
    "\n",
    "        const_pfpt=pfpt(Tn,yn)\n",
    "        const_J=J(Tn,yn)\n",
    "        const_F=model(Tn,yn)\n",
    "        yn=np.array(yn+h*(const_F+h/2*(const_pfpt+np.dot(const_J,const_F))+h**2/6*(p2fpt2(Tn,yn)+\\\n",
    "            np.dot(pJpt(Tn,yn),const_F)+np.dot(const_J,const_pfpt))))\n",
    "    print('итерация',N,len(Y))\n",
    "    if N>=3:\n",
    "        YY=Y\n",
    "        YO=OldY\n",
    "        if len(YY)%2!=0:\n",
    "            YY=YY[:-1]\n",
    "        if len(YO)%2!=0:\n",
    "            YO=YO[:-1]\n",
    "        YY=np.array(YY,dtype=np.float32)\n",
    "        YO=np.array(YO,dtype=np.float32)\n",
    "        delta=np.max(norm(YY[0::2]-YO,axis=0))\n",
    "        print('погрешность',delta)\n",
    "        if N>10*2:\n",
    "            break\n",
    "        if delta<eps:\n",
    "            break"
   ]
  },
  {
   "cell_type": "markdown",
   "metadata": {},
   "source": [
    "Так же решим встроенным решателем:"
   ]
  },
  {
   "cell_type": "code",
   "execution_count": 8,
   "metadata": {},
   "outputs": [],
   "source": [
    "solve = solve_ivp(model,[Tn0,tmax0],y00,method='LSODA',min_step=0.01,max_step=0.01)\n",
    "\n",
    "Time2=solve.t\n",
    "Z=solve.y\n",
    "\n",
    "Z1,Z2=Z\n",
    "Y1,Y2=Y.T"
   ]
  },
  {
   "cell_type": "markdown",
   "metadata": {},
   "source": [
    "График решения"
   ]
  },
  {
   "cell_type": "code",
   "execution_count": 48,
   "metadata": {},
   "outputs": [
    {
     "data": {
      "image/png": "[encoded data removed]",
      "text/plain": [
       "<Figure size 792x216 with 3 Axes>"
      ]
     },
     "metadata": {
      "needs_background": "light"
     },
     "output_type": "display_data"
    }
   ],
   "source": [
    "f, (ax1, ax2,ax3) = plt.subplots(1,3, gridspec_kw = {'width_ratios':[3, 3,3]})\n",
    "f.set_size_inches(11,3)\n",
    "\n",
    "ax1.plot(Time,Y1,'*', markersize=1)\n",
    "ax1.plot(Time2,Z1)\n",
    "ax1.set_ylabel(\"y\")\n",
    "ax3.set_xlabel(\"t\")\n",
    "\n",
    "ax2.plot(Time,Y2,'*', markersize=1)\n",
    "ax2.plot(Time2,Z2)\n",
    "ax2.set_ylabel(\"y'\")\n",
    "ax3.set_xlabel(\"t\")\n",
    "\n",
    "ax3.plot(Y1,Y2,'*', markersize=1)\n",
    "ax3.plot(Z1,Z2)\n",
    "ax3.set_xlabel(\"y\")\n",
    "ax3.set_ylabel(\"y'\")\n",
    "\n",
    "f.tight_layout()\n",
    "plt.show()"
   ]
  },
  {
   "cell_type": "markdown",
   "metadata": {},
   "source": [
    "Чтобы не возиться с вычитанием массивов разной длины, можно решения разными способами  простейшим способом интерполировать на нужном отрезке (соединяя точки) и построить разность интерполирующих функций на одном и том же разбиении:"
   ]
  },
  {
   "cell_type": "code",
   "execution_count": 12,
   "metadata": {},
   "outputs": [],
   "source": [
    "x = np.linspace(np.min(Time), np.max(Time),1000)\n",
    "f = interpolate.interp1d(Time, Y1,axis=0, fill_value=\"extrapolate\")\n",
    "Y1f=f(x)\n",
    "f = interpolate.interp1d(Time2, Z1,axis=0, fill_value=\"extrapolate\")\n",
    "Z1f=f(x)\n",
    "\n",
    "x = np.linspace(np.min(Time), np.max(Time),1000)\n",
    "f = interpolate.interp1d(Time, Y2,axis=0, fill_value=\"extrapolate\")\n",
    "Y2f=f(x)\n",
    "f = interpolate.interp1d(Time2, Z2,axis=0, fill_value=\"extrapolate\")\n",
    "Z2f=f(x)"
   ]
  },
  {
   "cell_type": "markdown",
   "metadata": {},
   "source": [
    "Разностные графики:"
   ]
  },
  {
   "cell_type": "code",
   "execution_count": 32,
   "metadata": {
    "scrolled": false
   },
   "outputs": [
    {
     "data": {
      "image/png": "[encoded data removed]",
      "text/plain": [
       "<Figure size 792x216 with 2 Axes>"
      ]
     },
     "metadata": {
      "needs_background": "light"
     },
     "output_type": "display_data"
    }
   ],
   "source": [
    "f, (plt1, plt2) = plt.subplots(1,2, gridspec_kw = {'width_ratios':[1,1]})\n",
    "f.set_size_inches(11,3)\n",
    "\n",
    "plt1.plot(x,Z1f-Y1f)\n",
    "\n",
    "\n",
    "plt2.plot(x,Z2f-Y2f)\n",
    "\n",
    "f.tight_layout()\n",
    "plt.show()"
   ]
  }
 ],
 "metadata": {
  "kernelspec": {
   "display_name": "Python 3",
   "language": "python",
   "name": "python3"
  },
  "language_info": {
   "codemirror_mode": {
    "name": "ipython",
    "version": 3
   },
   "file_extension": ".py",
   "mimetype": "text/x-python",
   "name": "python",
   "nbconvert_exporter": "python",
   "pygments_lexer": "ipython3",
   "version": "3.7.0"
  }
 },
 "nbformat": 4,
 "nbformat_minor": 2
}
