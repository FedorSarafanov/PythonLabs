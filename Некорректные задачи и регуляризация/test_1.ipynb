{
 "cells": [
  {
   "cell_type": "code",
   "execution_count": null,
   "metadata": {},
   "outputs": [],
   "source": [
    "%matplotlib inline\n",
    "# import matplotlib\n",
    "import numpy as np\n",
    "from numpy import pi,cos,sin,abs,sqrt,exp\n",
    "import matplotlib.pyplot as plt\n",
    "\n",
    "phi = 0.5 * (1.0 + sqrt(5.0))"
   ]
  },
  {
   "cell_type": "code",
   "execution_count": null,
   "metadata": {},
   "outputs": [],
   "source": [
    "def f(x,y):\n",
    "    return x**3 + 6*x**2 + 9*x + y**3 + 27*y**2 + 241*y + 715\n",
    "\n",
    "def nablx(x,y):\n",
    "    return 3*(x**2 + 4*x + 3)\n",
    "\n",
    "def nably(x,y):\n",
    "    return 3*y**2 + 46*y + 241\n",
    "\n",
    "x,y=2,12 "
   ]
  },
  {
   "cell_type": "code",
   "execution_count": null,
   "metadata": {},
   "outputs": [],
   "source": [
    "def f(x,y):\n",
    "    return x**3 + 6*x**2 + 9*x + y**3 + 27*y**2 + 241*y + 715\n",
    "\n",
    "def gradx(x,y):\n",
    "    return 3*(x**2 + 4*x + 3)\n",
    "\n",
    "def grady(x,y):\n",
    "    return 3*y**2 + 46*y + 241\n",
    "\n",
    "\n",
    "x,y=2,12"
   ]
  },
  {
   "cell_type": "code",
   "execution_count": null,
   "metadata": {},
   "outputs": [],
   "source": [
    "h=0.05\n",
    "def scw(F,h):\n",
    "    alpha0=0\n",
    "    while not((F(alpha0-h)>F(alpha0))&(F(alpha0)<F(alpha0+h))):\n",
    "        if F(alpha0-h)>F(alpha0+h):\n",
    "            alpha0=alpha0+h/2\n",
    "        else:\n",
    "            alpha0=alpha0-h/2\n",
    "    return alpha0"
   ]
  },
  {
   "cell_type": "code",
   "execution_count": null,
   "metadata": {},
   "outputs": [],
   "source": [
    "def minimize(f,eps,a,b): \n",
    "    if abs(b - a) < eps: \n",
    "        return (a + b)/2\n",
    "    else:\n",
    "        t = (b - a) / phi\n",
    "        x1, x2 = b - t, a + t\n",
    "        if f(x1) >= f(x2):\n",
    "            return minimize(f,eps,x1,b)\n",
    "        else:\n",
    "            return minimize(f,eps,a,x2)"
   ]
  },
  {
   "cell_type": "code",
   "execution_count": null,
   "metadata": {},
   "outputs": [],
   "source": [
    "xmin,xmax=1,2\n",
    "ymin,ymax=10,12\n",
    "\n",
    "eps1=0.0001\n",
    "eps2=0.0001\n",
    "xo,yo=1000,1000\n",
    "\n",
    "fig_size = plt.rcParams[\"figure.figsize\"]\n",
    "fig_size[0] = 14\n",
    "fig_size[1] = 14\n",
    "plt.rcParams[\"figure.figsize\"] = fig_size\n",
    "\n",
    "X = np.arange(xmin,xmax, 0.10)\n",
    "Y = np.arange(ymin,ymax, 0.10)\n",
    "X, Y = np.meshgrid(X, Y)   \n",
    "plt.contour(X,Y,f(X,Y),140)\n",
    "                   \n",
    "plt.plot(x,y,'ro')\n",
    "                   \n",
    "i=0\n",
    "while sqrt((x-xo)**2+(y-yo)**2)>eps1:\n",
    "    i+=1\n",
    "    def F(alpha): \n",
    "        return f(x+alpha*(-gradx(x,y)),y+alpha*(-grady(x,y)))\n",
    "    \n",
    "    alpha=minimize(F,eps2,0,scw(F,h))\n",
    "    xo,yo=x,y\n",
    "    x,y=x+alpha*(-gradx(x,y)),y+alpha*(-grady(x,y))\n",
    "    \n",
    "    plt.plot([xo, x],[yo, y],'-r')\n",
    "\n",
    "print('Итераций: ',i)\n",
    "plt.plot([x],[y],'-bo')\n",
    "print(x,y)\n",
    "plt.show() "
   ]
  },
  {
   "cell_type": "code",
   "execution_count": null,
   "metadata": {},
   "outputs": [],
   "source": []
  }
 ],
 "metadata": {
  "kernelspec": {
   "display_name": "Python 3",
   "language": "python",
   "name": "python3"
  },
  "language_info": {
   "codemirror_mode": {
    "name": "ipython",
    "version": 3
   },
   "file_extension": ".py",
   "mimetype": "text/x-python",
   "name": "python",
   "nbconvert_exporter": "python",
   "pygments_lexer": "ipython3",
   "version": "3.6.5"
  }
 },
 "nbformat": 4,
 "nbformat_minor": 2
}
