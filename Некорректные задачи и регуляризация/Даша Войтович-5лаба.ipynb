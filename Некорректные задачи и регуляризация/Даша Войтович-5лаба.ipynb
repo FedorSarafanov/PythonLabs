{
 "cells": [
  {
   "cell_type": "markdown",
   "metadata": {},
   "source": [
    "# Лабораторная работа №5"
   ]
  },
  {
   "cell_type": "code",
   "execution_count": 9,
   "metadata": {},
   "outputs": [
    {
     "data": {
      "image/png": "[encoded data removed]",
      "text/plain": [
       "<Figure size 432x288 with 1 Axes>"
      ]
     },
     "metadata": {
      "needs_background": "light"
     },
     "output_type": "display_data"
    }
   ],
   "source": [
    "import numpy as np \n",
    "from numpy import * #,sqrt,exp\n",
    "import matplotlib.pyplot as plt\n",
    "\n",
    "def f(i,t):\n",
    "    f=-(exp(-(i**2)*(t**2)))/(1+i*t*(cos(t))**2+t**2)\n",
    "    return t\n",
    "\n",
    "# print(f(1,0.1))\n",
    "tlist=np.arange(0,10,0.01)\n",
    "plt.plot(tlist,f(1,tlist))\n",
    "plt.show()"
   ]
  },
  {
   "cell_type": "markdown",
   "metadata": {},
   "source": [
    "## подсчет интеграла"
   ]
  },
  {
   "cell_type": "code",
   "execution_count": 10,
   "metadata": {},
   "outputs": [
    {
     "name": "stdout",
     "output_type": "stream",
     "text": [
      "1.5\n"
     ]
    }
   ],
   "source": [
    "alfa=0\n",
    "beta=1\n",
    "\n",
    "\n",
    "def I(i): # i-номер уравнения\n",
    "    i0=(f(i,alfa)+3*f(i,(2*alfa+beta)/3)+3*f(i,(alfa+2*beta)/3)+f(i,beta))*(beta-alfa)/8\n",
    "    i1=1\n",
    "    while (i0-i1)>0.1:\n",
    "        beta_new=(alfa+beta)/2\n",
    "        xright=beta_new\n",
    "        i1=(f(i,xleft)+3*f(i,(2*xleft+xright)/3)+3*f(i,(xleft+2*xright)/3)+f(i,xright))*(xright-xleft)/8\n",
    "        xleft=beta_new\n",
    "        xright=beta\n",
    "        i=(f(i,xleft)+3*f(i,(2*xleft+xright)/3)+3*f(i,(xleft+2*xright)/3)+f(i,xright))*(xright-xleft)/8\n",
    "    i=i1+i0\n",
    "    return i\n",
    "\n",
    "print(I(2))\n"
   ]
  },
  {
   "cell_type": "markdown",
   "metadata": {},
   "source": [
    "## метод прогонки"
   ]
  },
  {
   "cell_type": "code",
   "execution_count": 12,
   "metadata": {},
   "outputs": [
    {
     "name": "stdout",
     "output_type": "stream",
     "text": [
      "[ 1.       -0.514581  1.      ]\n",
      "[[ 1.          0.          0.        ]\n",
      " [ 0.         -2.99656028  0.        ]\n",
      " [ 0.         -0.9         1.        ]]\n",
      "[-0.0, 1.0]\n",
      "1.9\n",
      "[1.  0.  1.9]\n",
      "1.9\n",
      "[[ 1.   0.   0. ]\n",
      " [ 0.  -0.   0. ]\n",
      " [ 0.  -0.   1.9]]\n",
      "2.3673573473856067\n"
     ]
    }
   ],
   "source": [
    "import numpy as np\n",
    "from math import sin, cos, sqrt, exp\n",
    "n=3\n",
    "def f(i,t):\n",
    "    f=(exp(-(i**2)*(t**2)))/(1+i*t*(cos(t))**2+t**2)\n",
    "    return f\n",
    "\n",
    "A=np.zeros([n,n])\n",
    "#индексация идет с нуля до n-1\n",
    "A[0,1]=0 #c1\n",
    "A[0,0]=1 #d1\n",
    "A[n-1,n-2]=-0.9 # an\n",
    "A[n-1,n-1]=1 #dn\n",
    "\n",
    "def matA(n):\n",
    "    for i in range(1,n-1):\n",
    "        for j in range(1,n-1):\n",
    "            if i==j: \n",
    "                k=i+1 #k-номер строки, от 2 до n-1\n",
    "                A[i,j]=-(3+(((sin(k))**2)*(cos(k))**5)/(k+1))\n",
    "            elif i==j-1:\n",
    "                A[i,j]=1+(cos(k))**2\n",
    "                A[n-2,n-1]=1+(cos(n-1))**2\n",
    "            elif i==j+1:\n",
    "                A[i,j]=1\n",
    "                A[1,0]=1\n",
    "    return A\n",
    "def I(i):\n",
    "    def F(t):\n",
    "        return f(i,t)\n",
    "    return spint.quad(F,0,1)[0]\n",
    "# (f(i,0)+3*f(i,1/3)+3*f(i,2/3)+f(i,1))/8\n",
    "\n",
    "B=np.zeros(n) \n",
    "B[0]=1\n",
    "B[n-1]=1\n",
    "import scipy.integrate as spint\n",
    "def vecB(n):\n",
    "    for i in range(1,n-1):\n",
    "        B[i]=-I(i)\n",
    "    return B \n",
    "\n",
    "print(vecB(n))\n",
    "print(matA(n))\n",
    "\n",
    "# найдем коэффициенты L,M\n",
    "l=np.zeros(n-1)\n",
    "m=np.zeros(n-1)\n",
    "\n",
    "def LM(n,p): #LM[0]-коэффициент Lk, LM[1]-Mk\n",
    "    l[0]=0 \n",
    "    m[0]=0\n",
    "    for k in range(n-2):\n",
    "        m[k+1]=(B[k]-m[k]*A[k,k-1])/(A[k,k-1]*l[k]+A[k,k])\n",
    "    for k in range(n-2):\n",
    "        l[k+1]=-A[k,k+1]/(A[k,k-1]*l[k]+A[k,k])\n",
    "#         print(l[k+1],k)\n",
    "    return [l[p-1],m[p-1]]\n",
    "\n",
    "# for i in range(2,n):\n",
    "#     print(i)\n",
    "\n",
    "print(LM(n,n-1))\n",
    "\n",
    "def findx(n):\n",
    "    x=np.zeros(n)\n",
    "    x[n-1]=(B[n-1]-LM(n,n-1)[1]*A[n-1,n-2])/(LM(n,n-1)[0]*A[n-1,n-2]+A[n-1,n-1])\n",
    "    print(x[n-1])\n",
    "    for i in range(n-1):\n",
    "        i=n-1-i\n",
    "#         print(i)\n",
    "        x[i-1]=LM(n,i-1)[0]*x[i]+LM(n,i-1)[1]\n",
    "#         print(LM(n,i-1)[0],x[i-1])\n",
    "    return x\n",
    "print(findx(n))\n",
    "\n",
    "B_new=matA(n)*findx(n)\n",
    "print(B_new)\n",
    "norm=np.linalg.norm(B-B_new)\n",
    "print(norm)\n"
   ]
  },
  {
   "cell_type": "markdown",
   "metadata": {},
   "source": [
    "## метод наискорейшого спуска"
   ]
  },
  {
   "cell_type": "code",
   "execution_count": 56,
   "metadata": {},
   "outputs": [
    {
     "name": "stdout",
     "output_type": "stream",
     "text": [
      ":)\n",
      "[[nan nan nan nan nan nan]\n",
      " [nan nan nan nan nan nan]\n",
      " [nan nan nan nan nan nan]\n",
      " [nan nan nan nan nan nan]\n",
      " [nan nan nan nan nan nan]\n",
      " [nan nan nan nan nan nan]]\n"
     ]
    },
    {
     "name": "stderr",
     "output_type": "stream",
     "text": [
      "C:\\phyton\\lib\\site-packages\\ipykernel_launcher.py:10: RuntimeWarning: divide by zero encountered in true_divide\n",
      "  # Remove the CWD from sys.path while we load stuff.\n",
      "C:\\phyton\\lib\\site-packages\\ipykernel_launcher.py:10: RuntimeWarning: invalid value encountered in true_divide\n",
      "  # Remove the CWD from sys.path while we load stuff.\n",
      "C:\\phyton\\lib\\site-packages\\ipykernel_launcher.py:11: RuntimeWarning: invalid value encountered in add\n",
      "  # This is added back by InteractiveShellApp.init_path()\n",
      "C:\\phyton\\lib\\site-packages\\ipykernel_launcher.py:9: RuntimeWarning: invalid value encountered in multiply\n",
      "  if __name__ == '__main__':\n"
     ]
    }
   ],
   "source": [
    "E=np.ones([n,n])\n",
    "r=np.zeros(n)\n",
    "\n",
    "def findx2(n,x0):\n",
    "    xi=np.zeros(n)\n",
    "    while np.linalg.norm(x0-xi)>0.1:\n",
    "        print(':)')\n",
    "        for i in range(n):\n",
    "            ri=A*x0-B\n",
    "            tayi=np.dot(A*ri,ri)/np.dot(A*ri,A*ri)\n",
    "            xi=(E-tayi*x0+tayi*E*B)\n",
    "            x0=xi\n",
    "#             print(x0)\n",
    "    x=xi\n",
    "    return x\n",
    "\n",
    "x0=[1,2,3,4,5,6]\n",
    "print(findx2(n,x0))\n",
    "\n",
    "# print(tay)"
   ]
  },
  {
   "cell_type": "code",
   "execution_count": 14,
   "metadata": {},
   "outputs": [
    {
     "name": "stdout",
     "output_type": "stream",
     "text": [
      "[[1. 1. 1. 1. 1.]\n",
      " [1. 1. 1. 1. 1.]\n",
      " [1. 1. 1. 1. 1.]\n",
      " [1. 1. 1. 1. 1.]\n",
      " [1. 1. 1. 1. 1.]]\n"
     ]
    }
   ],
   "source": []
  }
 ],
 "metadata": {
  "kernelspec": {
   "display_name": "Python 3",
   "language": "python",
   "name": "python3"
  },
  "language_info": {
   "codemirror_mode": {
    "name": "ipython",
    "version": 3
   },
   "file_extension": ".py",
   "mimetype": "text/x-python",
   "name": "python",
   "nbconvert_exporter": "python",
   "pygments_lexer": "ipython3",
   "version": "3.7.0"
  }
 },
 "nbformat": 4,
 "nbformat_minor": 2
}
