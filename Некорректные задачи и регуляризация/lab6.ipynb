{
 "cells": [
  {
   "cell_type": "markdown",
   "metadata": {},
   "source": [
    "#  Лабораторная работа №5 \n",
    "# Численное решение системы линейных уравнений и численное интегрирование.\n",
    "\n",
    "## Выполнил: Понур Кирилл\n",
    "## Вариант 2\n",
    "# Задание 1.\n",
    "В данной работе будут использованы:\n",
    "* Метод прогонки\n",
    "* Метод релаксации\n",
    "* Формула Буля\n",
    "\n",
    "# Задание 2.\n",
    "Вычислить определенный интеграл с относительной точностью $\\varepsilon=0.01$.\n",
    "\\begin{equation}\n",
    "   I= -\\int\\limits_0^{\\infty}\\cos{2t}\\exp\\{-i^2t^2-t^2\\} dt, i=\\overline{2,n-1}\n",
    "\\end{equation}\n",
    "с помощью формулы Буля\n",
    "$$\n",
    "    \\sum_{k=0}^4 C_k^{(4)}f(x_k^{(4)})= \\\\\n",
    "    =\\frac{\\beta-\\alpha}{90}\n",
    "    \\left( 7f(\\alpha)+32f(\\frac{3\\alpha+\\beta}{4})+12f(\\frac{\\alpha+\\beta}{2})+\n",
    "    32f(\\frac{\\alpha+3\\beta}{4})+7f(\\beta)\n",
    "    \\right)\n",
    "$$"
   ]
  },
  {
   "cell_type": "code",
   "execution_count": 1,
   "metadata": {},
   "outputs": [
    {
     "data": {
      "application/javascript": [
       "IPython.notebook.set_autosave_interval(300000)"
      ]
     },
     "metadata": {},
     "output_type": "display_data"
    },
    {
     "name": "stdout",
     "output_type": "stream",
     "text": [
      "Autosaving every 300 seconds\n"
     ]
    }
   ],
   "source": [
    "%autosave 300"
   ]
  },
  {
   "cell_type": "code",
   "execution_count": 2,
   "metadata": {},
   "outputs": [],
   "source": [
    "from matplotlib.pylab import*\n",
    "import numpy as np\n",
    "from ipywidgets import IntProgress\n",
    "from IPython.display import display,clear_output\n",
    "import time\n",
    "import csv\n",
    "m=4\n",
    "epsilon=10**(-m)\n",
    "def boole(a,b,i):\n",
    "    boole=(\n",
    "        (b-a)/90*\n",
    "            (    \n",
    "             7*f(a,i)+32*f((3*a+b)/4,i)\n",
    "             +12*f((a+b)/2,i)+\n",
    "             32*f((a+3*b)/4,i)+\n",
    "             7*f(b,i)    \n",
    "             )\n",
    "          )\n",
    "    return boole\n",
    "\n",
    "def integral(a,b,i):\n",
    "    n=1\n",
    "    integral=1\n",
    "    tmp=2\n",
    "    while abs(integral-tmp)>epsilon:\n",
    "        h=1/n\n",
    "        tmp=integral\n",
    "        integral=0\n",
    "        for j in range(n):\n",
    "            tmp1=boole(a+j*h,a+(j+1)*h,i)\n",
    "            integral+=tmp1\n",
    "            if abs(tmp1-integral)<epsilon:\n",
    "                continue\n",
    "            \n",
    "        n*=2\n",
    "    return round(integral,m)"
   ]
  },
  {
   "cell_type": "markdown",
   "metadata": {},
   "source": [
    "# Задание 3\n",
    "Для любого заданного $i$ построить график подынтегральной функции, а также график зависимости значения интеграла от номера итерации используемого метода численного интегрирования."
   ]
  },
  {
   "cell_type": "code",
   "execution_count": 3,
   "metadata": {},
   "outputs": [
    {
     "name": "stdout",
     "output_type": "stream",
     "text": [
      "0.1418\n"
     ]
    },
    {
     "data": {
      "image/png": "[encoded data removed]",
      "text/plain": [
       "<Figure size 432x288 with 1 Axes>"
      ]
     },
     "metadata": {
      "needs_background": "light"
     },
     "output_type": "display_data"
    },
    {
     "data": {
      "image/png": "[encoded data removed]",
      "text/plain": [
       "<Figure size 432x288 with 1 Axes>"
      ]
     },
     "metadata": {
      "needs_background": "light"
     },
     "output_type": "display_data"
    }
   ],
   "source": [
    "def f(t,i):\n",
    "    f=np.cos(2*t)*np.exp(-i**2*t**2-t**2)\n",
    "    return(f)\n",
    "\n",
    "def integral_demo(a,b,i):\n",
    "    n=1\n",
    "    integral=1\n",
    "    tmp=2\n",
    "    tmp2=[]\n",
    "    while abs(integral-tmp)>epsilon:\n",
    "        h=1/n\n",
    "        tmp=integral\n",
    "        integral=0\n",
    "        for j in range(n):\n",
    "            tmp1=boole(a+j*h,a+(j+1)*h,i)\n",
    "            integral+=tmp1\n",
    "            if abs(tmp1-integral)<epsilon:\n",
    "                continue\n",
    "        tmp2.append(integral)    \n",
    "        n*=2\n",
    "    return tmp2\n",
    "\n",
    "a=0\n",
    "b=1\n",
    "i=6\n",
    "print(integral(a,b,i))\n",
    "t=np.linspace(a,b,1000)\n",
    "plot(t,f(t,i))\n",
    "title('Подынтегральная функция')\n",
    "show()\n",
    "plot(integral_demo(a,b,i))\n",
    "title('Зависимость значения интеграла от номера итерации')\n",
    "show()"
   ]
  },
  {
   "cell_type": "markdown",
   "metadata": {},
   "source": [
    "# Задание 4\n",
    "Построить график зависимости свободных членов системы от $i$"
   ]
  },
  {
   "cell_type": "code",
   "execution_count": 4,
   "metadata": {},
   "outputs": [],
   "source": [
    "class matrix:\n",
    "    def A(n):\n",
    "        f = IntProgress(min=0, max=n)\n",
    "        display(f,'calculate A')\n",
    "        \n",
    "        A=np.zeros((n,n))\n",
    "        for i in range(n):\n",
    "            for j in range(n):\n",
    "                if i==j:\n",
    "                    A[i][j]=-(i**3+3)\n",
    "                if i+1==j:\n",
    "                    A[i][j]=(i**2+1)\n",
    "                if i==j+1:\n",
    "                    A[i][j]=1\n",
    "            f.value+=10\n",
    "        A[0][0]=1\n",
    "        A[-1][-1]=1\n",
    "        A[0][1]=-0.5\n",
    "        A[-1][-2]=0\n",
    "        clear_output()\n",
    "        return A\n",
    "\n",
    "    def D(n):\n",
    "#         A=matrix.A(n)\n",
    "        D=np.zeros((n,n))\n",
    "        f = IntProgress(min=0, max=n)\n",
    "        display(f,'calculate D')\n",
    "        for i in range(n):\n",
    "            for j in range(n):\n",
    "                if i==j:\n",
    "                    D[i][j]=A[i][j]\n",
    "            f.value+=10\n",
    "        clear_output()\n",
    "        return D\n",
    "\n",
    "    def R(n):\n",
    "        R=np.zeros((n,n))\n",
    "        f = IntProgress(min=0, max=n)\n",
    "        display(f,'calculate R')\n",
    "        for i in range(n):\n",
    "            for j in range(n):\n",
    "                if i+1==j:\n",
    "                    R[i][j]=A[i][j]\n",
    "            f.value+=10\n",
    "        clear_output()\n",
    "        return R\n",
    "\n",
    "    def L(n):\n",
    "        L=np.zeros((n,n))\n",
    "        f = IntProgress(min=0, max=n)\n",
    "        display(f,'calculate L')\n",
    "        for i in range(n):\n",
    "            for j in range(n):\n",
    "                if i==j+1:\n",
    "                    L[i][j]=A[i][j]\n",
    "            f.value+=10\n",
    "        clear_output()\n",
    "        return L\n",
    "    def diagonals(n):\n",
    "        A=matrix.A(n)\n",
    "        f = IntProgress(min=0, max=3)\n",
    "        display(f,'calculate tridiagonal matrix')\n",
    "        c=[A[i][j] for i in range(n) for j in range(n) if i+1==j]\n",
    "        f.value+=1\n",
    "        time.sleep(1)\n",
    "        d=[A[i][j] for i in range(n) for j in range(n) if i==j]\n",
    "        f.value+=1\n",
    "        time.sleep(1)\n",
    "        a=[A[i][j] for i in range(n) for j in range(n) if i==j+1]\n",
    "        time.sleep(1)\n",
    "\n",
    "        f.value+=1\n",
    "        clear_output()\n",
    "        return c,d,a\n",
    "\n",
    "    def b(n):   \n",
    "        try:\n",
    "            lines=0\n",
    "            file=open('integral.tsv','r')\n",
    "            for line in file:\n",
    "                lines+=1\n",
    "            if lines<n:\n",
    "                file.close()\n",
    "                raise        \n",
    "        except:\n",
    "            w = IntProgress(min=0, max=n)\n",
    "            display(w,'write to integral.tsv')\n",
    "            file=open('integral.tsv','w')\n",
    "            file.write('0'+'\\n')\n",
    "            for i in range(1,n-1):\n",
    "                w.value+=50\n",
    "                file.write(str(integral(0,1,i))+'\\n')\n",
    "            file.write('4')\n",
    "            file.close()\n",
    "\n",
    "        b=[]\n",
    "        j=0\n",
    "        file=open('integral.tsv','r')\n",
    "        f = IntProgress(min=0, max=n)\n",
    "        display(f,'import b from file')\n",
    "        b=np.zeros((n,1))\n",
    "        b=np.array(b,dtype='float16')\n",
    "        with file as tsv:\n",
    "            reader= csv.reader(tsv)\n",
    "            for i in reader:\n",
    "                if j>=n:\n",
    "                    break\n",
    "                b[j]=(float(i[0]))\n",
    "                j+=1\n",
    "                f.value+=50\n",
    "        b[-1]=4\n",
    "        file.close()\n",
    "        print('Done')\n",
    "        return b"
   ]
  },
  {
   "cell_type": "code",
   "execution_count": null,
   "metadata": {},
   "outputs": [
    {
     "data": {
      "application/vnd.jupyter.widget-view+json": {
       "model_id": "d2227b80ce54426b8c8d432da04de4a2",
       "version_major": 2,
       "version_minor": 0
      },
      "text/plain": [
       "IntProgress(value=0)"
      ]
     },
     "metadata": {},
     "output_type": "display_data"
    },
    {
     "data": {
      "text/plain": [
       "'write to integral.tsv'"
      ]
     },
     "metadata": {},
     "output_type": "display_data"
    },
    {
     "data": {
      "application/vnd.jupyter.widget-view+json": {
       "model_id": "81a62b4bce7d4d118f6e77dc1a4350d1",
       "version_major": 2,
       "version_minor": 0
      },
      "text/plain": [
       "IntProgress(value=0)"
      ]
     },
     "metadata": {},
     "output_type": "display_data"
    },
    {
     "data": {
      "text/plain": [
       "'import b from file'"
      ]
     },
     "metadata": {},
     "output_type": "display_data"
    },
    {
     "name": "stdout",
     "output_type": "stream",
     "text": [
      "Done\n"
     ]
    },
    {
     "data": {
      "image/png": "[encoded data removed]",
      "text/plain": [
       "<Figure size 432x288 with 1 Axes>"
      ]
     },
     "metadata": {
      "needs_background": "light"
     },
     "output_type": "display_data"
    }
   ],
   "source": [
    "y=matrix.b(100)\n",
    "y=y[0:-1]\n",
    "x=np.arange(len(y))\n",
    "plot(x,y)\n",
    "title('Зависимость свободных членов системы от i')\n",
    "show()"
   ]
  },
  {
   "cell_type": "markdown",
   "metadata": {},
   "source": [
    "\n",
    "## Итерационные методы решения СЛАУ\n",
    "Решаем систему\n",
    "$$Ax=b \\tag{*} \\label{eq:2}$$ \n",
    "Итерационными методами называются приближенные методы, в которых решение системы получается как предел последовательности векторов $\\{x^k\\}_{k=0}^{\\infty}$, каждый последующий элемент которой вычисляется по некоторому единому правилу. Начальный элемент $x^1$ выбирается произвольно.\n",
    "Последовательность $\\{x^k\\}_{k=0}^{\\infty}$ называется итерационной, а её элементы последовательными итерациями (приближениями).\n",
    "\n",
    "Важной характеристикой итерационного процесса является скорость схожимости итерационной последовательности. Говорят, что итерация $x^k$ является с точностью $\\varepsilon$ приближенным решением системы, если\n",
    "$$||x^k-x^0||<\\varepsilon,$$\n",
    "где $x^0$- точное решение системы.\n",
    "\n",
    "Как правило, для итерационного метода решения системы существует такая последовательность невырожденных матриц $H_k$, $k=1,2\\dots$, что правило построения элементов итерационной последовательности записывается в виде:\n",
    "\\begin{equation}\n",
    "    x^{k+1}=x^k-H_k(Ax^k-b)  \\label{eq:1} \\tag{1}\n",
    "\\end{equation}\n",
    "\n",
    "Запишем ($\\ref{eq:1}$) в виде:\n",
    "$$x^{k+1}=T_kx^k+H_kb$$,\n",
    "где $T_k=E-H_kE$, E- единичная ($n\\cdot n$)- матрица. Вектор $\\varphi^k=x^k-x^0$ называется вектором ошибки, а вектор $r^k=Ax^k=b$ - вектором невязки.\n",
    "\n",
    "Итерационный метод называется стационарным, если матрица $H_k$ не зависит от номера шага k.  В противном случае метод называется нестационарным. Для того, чтобы стационарный итерационный процесс\n",
    "$$x^{k+1}=Tx^k+Hb$$, сходился, достаточно, чтобы ля какой-либо одной нормы матрицы $T$ выполнялось неравенство\n",
    "$$||T||<1.$$\n",
    "\n",
    "Критерием окончания итерационного процесса при заданной точности $\\varepsilon$ может служить неравенство \n",
    "$$||x^k-x^{k-1}||\\leq\\varepsilon\\frac{1-||T||}{||T||}$$\n",
    "\n",
    "## Метод последовательной релаксации\n",
    "\n",
    "Здесь \n",
    "$$H_k= \\tau(D+\\tau L)^{-1}, T_k=(D+\\tau L)^{-1}((1-\\tau)D-\\tau R)$$\n",
    "\n",
    "$D$-диагональная матрица, $L$-нижняя треугольная матрица с нулевыми диагональными элементами, $R$-верхняя треугольная матрица с нулевыми диагональными элементами, $0<\\tau<2$\n",
    "\n",
    "\n",
    "# Прямые методы\n",
    "Прямыми методами решения алгебраических систем называют методы, использующие конечное, известное заранее число арифметических операций. При этом точность решения определяется лишь тольчностью арифметических вычислений. Основной идеей прямых методов, в конечном итоге, является идея исключение неизвестных.\n",
    "## Метод прогонки\n",
    "\n",
    "Важным классом систем ($\\ref{eq:2}$) являются системы вида:\n",
    "$$\\begin{cases}\n",
    "d_1 x_1+c_1 x_2= b_1, \\\\\n",
    "a_ix_{i-1}+d_ix_i+c_ix_{i+1}=b_i,  & i=2,3\\dots,n-1 \\\\\n",
    "a_nx_{n-1}+d_nx_n=b_n \n",
    "\\end{cases} \\tag{2} \\label{eq:3}$$\n",
    "с трехдиагональной матрицей\n",
    "\\begin{equation}\n",
    "A=\n",
    "    \\begin{pmatrix}\n",
    "    d_1   & c_1   & 0     & 0     & \\dots & \\dots   &   0      &   0    \\\\\n",
    "    a_2   & d_2   & c_2   & 0     & \\dots & \\dots   &   0      &   0    \\\\\n",
    "    \\dots & \\dots & \\dots & \\dots & \\dots & \\dots   & \\dots    & \\dots  \\\\\n",
    "    0     &   0   & \\dots & \\dots & 0     & a_{n-1} &  d_{n-1} & c_{n-1}\\\\\n",
    "    0     &   0   & \\dots & \\dots & 0     & 0       &  a_{n}   & d_{n}  \\\\\n",
    "    \\end{pmatrix}\n",
    "\\end{equation}\n",
    "Такие системы возникают при решении краевых задач для дифференциальных уравнений разностными методами.\n",
    "\n",
    "Специальный вид матрицы $A$ позволяет применить идею исключения неизвестных в системе $\\ref{eq:3}$ следующим простым способом, который носит название метода прогонки.\n",
    "\n",
    "Первое уравнение системы $\\ref{eq:3}$ даёт соотношение между $x_1$ и $x_2$,\n",
    "в силу которого второе уравнение даёт соотношение между $x_2$ и $x_3$.\n",
    "Следовательно, третье уравнение даёт соотношение между $x_3$ и $x_4$ и т.д.\n",
    "Запишем связь между неизвестными $x_{i-1}$ и $x_i$ в виде:\n",
    "$$x_{i-1}=L_ix_i+M_i, \\, i=2,3,\\dots n \\tag{3} \\label{eq:5}$$\n",
    "Из вервого уравнения системы $\\ref{eq:3}$ следует, что\n",
    "$$ L_2=-\\frac{c_2}{d_2}, \\, M_2=\\frac{b_1}{d_1} \\tag{4} \\label{eq:6}$$\n",
    "\n",
    "Подставляя ($\\ref{eq:5}$) в $i$-ое уравнение системы ($\\ref{eq:3}$), получим\n",
    "$$x_i=-\\frac{c_i}{a_iL_i+d_i}x_{i+1}+\\frac{b_i-M_ia_i}{a_iL_i+d_i} \\tag{5} \\label{eq:7} $$\n",
    "Сравнивая ($\\ref{eq:5}$) и ($\\ref{eq:7}$), находим рекуррентные соотношения\n",
    "$$L_{i+1}=\\frac{c_i}{a_iL_i+d_i}, \\, M_{i+1}=\\frac{b_i-M_ia_i}{a_iL_i+d_i}, \\,\n",
    "i=2,\\dots,n-1 $$\n",
    "которые вместе с формулами ($\\ref{eq:6}$) позволяют последовательно найти все прогоночные коэффициенты. Процесс нахождения этих коэффициентов называется прямым ходом метода прогонки. Из последнего уравнения системы ($\\ref{eq:3}$) и соотношения ($\\ref{eq:5}$) для $i=n$ находим\n",
    "$$x_n=\\frac{b_n-M_na_n}{L-na_n+d_n},$$\n",
    "что позволяет по формулам ($\\ref{eq:5}$) последовательно найти все остальные неизвестные $x_{n-1},x_{n-1},\\dots,x_1$. Этот процесс называется обратным ходом метода прогонки."
   ]
  },
  {
   "cell_type": "markdown",
   "metadata": {},
   "source": [
    "# Задание 5\n",
    "Решить СЛАУ методом прогонки и методом релаксации:\n",
    "\n",
    "\n",
    "$$\\begin{cases}\n",
    "x_1=0.5x_2, \\\\\n",
    "x_{i-1}-(i^3+3)x_i+(i^2+1)x_{i+1}=I, & i=\\overline{2,n-1} \\\\\n",
    "x_n=4\n",
    "\\end{cases}$$\n",
    "\n",
    "Как можно заметить, эта система представляет собой систему $Ax=b,$ где \n",
    "$A$- трехдиагональная матрица.\n",
    "\n",
    "Значит для метода последовательной релаксации матрицы $R,L,D$ выродятся в диагональные\n",
    "\n",
    "\n",
    " "
   ]
  },
  {
   "cell_type": "code",
   "execution_count": null,
   "metadata": {},
   "outputs": [],
   "source": [
    "class run:\n",
    "    def L(n):\n",
    "        L=np.zeros(n-1)\n",
    "        L[0]=-c[0]/d[0]\n",
    "        for i in range(1,n-1):\n",
    "            L[i]=-c[i]/(L[i-1]+d[i])\n",
    "        return L\n",
    "    \n",
    "    def M(n):\n",
    "        M=np.zeros(n-1)\n",
    "        M[0]=b[0]/d[0]\n",
    "        for i in range(1,n-1):\n",
    "            M[i]=(b[i]-M[i-1]*a[i])/(a[i]*L[i-1]+d[i])\n",
    "        return M\n",
    "    \n",
    "    def main(n):\n",
    "        global a,b,c,d,L\n",
    "        c,d,a=matrix.diagonals(n)\n",
    "        b=matrix.b(n)\n",
    "        L=run.L(n)\n",
    "        M=run.M(n)\n",
    "        x=np.zeros((n,1))\n",
    "        x=np.array(x,dtype='float16')\n",
    "        x[-1][0]=(b[-1]-M[-1]*a[-1])/(L[-1]*a[-1]+d[-1])\n",
    "        \n",
    "        f = IntProgress(min=0, max=n-1)\n",
    "        display(f,'solve x')\n",
    "        for i in np.arange(n-1,0,-1):\n",
    "            x[i-1][0]=L[i-1]*x[i][0]+M[i-1]\n",
    "            f.value+=20\n",
    "        del a,b,c,d,L\n",
    "        print('Найдено ',len(x),' корней')\n",
    "        return x"
   ]
  },
  {
   "cell_type": "code",
   "execution_count": null,
   "metadata": {},
   "outputs": [],
   "source": [
    "class relax:\n",
    "    def H(n):\n",
    "        \n",
    "        H=np.dot(tau, np.linalg.inv(\n",
    "                                   D+np.dot(tau, L)\n",
    "                                     )\n",
    "                                      )\n",
    "        return H\n",
    "\n",
    "    def T(n):\n",
    "        tmp1=np.linalg.inv(D + np.dot(tau, L) )\n",
    "        tmp2=( np.dot(1-tau,D ) )-np.dot(tau, R)\n",
    "        T=np.dot(tmp1, tmp2)\n",
    "        return T\n",
    "\n",
    "\n",
    "\n",
    "    def main(n):\n",
    "        global A,D,L,R,b,T,H\n",
    "        A=matrix.A(n)\n",
    "        D=matrix.D(n)\n",
    "        L=matrix.L(n)\n",
    "        R=matrix.R(n)\n",
    "        b=matrix.b(n)\n",
    "        T=relax.T(n)\n",
    "        H=relax.H(n)\n",
    "        \n",
    "        x=np.zeros((n,1))\n",
    "        x=np.array(x,dtype='float64')\n",
    "        x0=np.array(x,dtype='float64')\n",
    "        j=0\n",
    "        solves=[] #для построения решений\n",
    "        dispersion=[] #для построения ошибок\n",
    "        error=abs(epsilon*(1-np.linalg.norm(T))/np.linalg.norm(T))\n",
    "        \n",
    "        while np.linalg.norm(x-x0)>error and j<10000 or j==0:\n",
    "            x0=np.array(x,dtype='float64')\n",
    "            x=np.dot(T,x)+np.dot(H,b)\n",
    "            j+=1\n",
    "            if n<10:\n",
    "                dispersion.append(np.linalg.norm(x-x0))\n",
    "                solves.append(x)\n",
    "        del A,D,L,R,b,T,H\n",
    "        \n",
    "#         x=np.array(x,dtype='float16')\n",
    "        print('Найдено ',len(x),' корней')\n",
    "        print('Число итераций j=',j)\n",
    "#         print('Ошибка=',error)\n",
    "#         print('Норма=',np.linalg.norm(x-x0))\n",
    "        solves=np.array(solves)\n",
    "        solves=solves.T\n",
    "        \n",
    "        return x,solves,dispersion\n",
    "\n",
    "        "
   ]
  },
  {
   "cell_type": "code",
   "execution_count": null,
   "metadata": {},
   "outputs": [
    {
     "data": {
      "application/vnd.jupyter.widget-view+json": {
       "model_id": "dd52c06fe6cb4d44aafe8d241ce7157c",
       "version_major": 2,
       "version_minor": 0
      },
      "text/plain": [
       "IntProgress(value=0, max=10000)"
      ]
     },
     "metadata": {},
     "output_type": "display_data"
    },
    {
     "data": {
      "text/plain": [
       "'write to integral.tsv'"
      ]
     },
     "metadata": {},
     "output_type": "display_data"
    }
   ],
   "source": [
    "m=6\n",
    "epsilon=10**(-m)\n",
    "n=5\n",
    "tau=0.1\n",
    "x,solves,dispersion=relax.main(n)\n",
    "run.main(10000) #эта функция может найти 10000 корней\n"
   ]
  },
  {
   "cell_type": "markdown",
   "metadata": {},
   "source": [
    "# Задание 6\n",
    "Построить график решения $x$ от $i$, график невязки от i, а также\n",
    "график зависимотости нормы решения от номера итерации используемого метода численного решения системы.\n"
   ]
  },
  {
   "cell_type": "code",
   "execution_count": null,
   "metadata": {},
   "outputs": [],
   "source": [
    "\n",
    "for i in range(n):\n",
    "    plot(solves[0][i])\n",
    "    xlabel('i')\n",
    "    ylabel('x')\n",
    "    title(\n",
    "          'График решения x' + '[' +str(i) + ']' + '=' \n",
    "          +str( round(x[i][0],m) ) \n",
    "         )\n",
    "    show()\n",
    "plot(dispersion)\n",
    "xlabel('i')\n",
    "ylabel('Ошибка')\n",
    "show()"
   ]
  },
  {
   "cell_type": "code",
   "execution_count": null,
   "metadata": {},
   "outputs": [],
   "source": [
    "A=matrix.A(3)\n",
    "mu=np.linalg.cond(A,1)\n",
    "print('Число обусловленности mu=',mu)"
   ]
  },
  {
   "cell_type": "code",
   "execution_count": null,
   "metadata": {},
   "outputs": [],
   "source": []
  }
 ],
 "metadata": {
  "kernelspec": {
   "display_name": "Python 3",
   "language": "python",
   "name": "python3"
  },
  "language_info": {
   "codemirror_mode": {
    "name": "ipython",
    "version": 3
   },
   "file_extension": ".py",
   "mimetype": "text/x-python",
   "name": "python",
   "nbconvert_exporter": "python",
   "pygments_lexer": "ipython3",
   "version": "3.7.0"
  }
 },
 "nbformat": 4,
 "nbformat_minor": 2
}
