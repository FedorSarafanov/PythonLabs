{
 "cells": [
  {
   "cell_type": "markdown",
   "metadata": {},
   "source": [
    "# Лабораторная работа №5 \n",
    "# \"Численное решение системылинейных уравнений, численное интегрирование\"\n",
    "## Вариант №15\n",
    "### Выполнила Войтович Дарья\n",
    "#### Задание:\n",
    "1. Выбрать из файла vars.pdf свой вариант, включающий систему уравнений с указанием методоврешения системы и определенного интеграла.\n",
    "2. Вычислить определенный интеграл указанным методом с относительной точностью 0,01.\n",
    "3. Для любого заданного  построить график подынтегральной функции, а также график зависимостизначения интеграла от номера итерации используемого метода численного интегрирования.\n",
    "4. Построить график зависимости свободных членов системы от i .\n",
    "5. Решить систему уравнений заданным (или заданными) методами, взяв число уравнений равным 1000 с относительной точностью 0,001. Определить число обусловленности линейной системы.\n",
    "6. Построить график решения ${}x_1,...x_n$ от i, график зависимости невязки от i, а также график зависимости нормы решения от номера итерации используемого метода численногорешения системы.\n",
    "\n",
    "##### Метод прогонки и метод наискорейшего спуска + формула 3/8\n",
    "\\begin{equation*}\n",
    " \\begin{cases}\n",
    "   x_1 = 1, \n",
    "   \\\\\n",
    "   x_{i-1}-(3+{{sin^2icos^5i}\\over{i+1}})x_i+(1+cos^2i)x_{i+1}=-\\int\\limits_0^1 {{exp(-i^2t^2)}\\over{1+itcos^2t+t^2}}dt,\n",
    "   \\\\\n",
    "   x_n=0.9x_{n-1}+1\n",
    " \\end{cases}\n",
    "\\end{equation*}\n",
    "$i$ пробегает значения от $2$ до $n-1$"
   ]
  },
  {
   "cell_type": "code",
   "execution_count": 2,
   "metadata": {},
   "outputs": [
    {
     "data": {
      "text/plain": [
       "<Figure size 640x480 with 1 Axes>"
      ]
     },
     "metadata": {},
     "output_type": "display_data"
    }
   ],
   "source": [
    "import numpy as np \n",
    "from numpy import * #,sqrt,exp\n",
    "import matplotlib.pyplot as plt\n",
    "t=np.arange(0,10,0.01)\n",
    "\n",
    "def f(i,t):\n",
    "    f=-(exp(-(i**2)*(t**2)))/(1+i*t*(cos(t))**2+t**2)\n",
    "    return f\n",
    "\n",
    "# print(f(1,0.1))\n",
    "tlist=np.arange(0,10,0.01)\n",
    "plt.plot(tlist,f(2,tlist))\n",
    "plt.title('График подынтегральной функции от I')\n",
    "plt.show()"
   ]
  },
  {
   "cell_type": "markdown",
   "metadata": {},
   "source": [
    "## подсчет интеграла\n",
    "Для построения численного алгоритма вычисления интеграла пространство, где необходимо его подсчитать, дискретизируем, то есть в данном случае разбиваем отрезок на некоторое число частей. Разбиение проводим до тех пор, пока относительная погрещность не станет меньше заданной. Затем на каждом подпространстве применяем формулу 3/8:\n",
    "$\\sum\\limits_{k=0}^3C_k^{(3)}f(x_k^{(3)})={{\\beta-\\alpha}\\over{8}}(f(\\alpha)+3f({{2\\alpha+\\beta}\\over{3}})+3f({{\\alpha+2\\beta}\\over{3}})+f(\\beta))$"
   ]
  },
  {
   "cell_type": "code",
   "execution_count": 3,
   "metadata": {},
   "outputs": [
    {
     "name": "stdout",
     "output_type": "stream",
     "text": [
      "[-0.003025437005106736, 7, 'номер уравнения', 200]\n"
     ]
    },
    {
     "data": {
      "image/png": "[encoded data removed]",
      "text/plain": [
       "<Figure size 432x288 with 1 Axes>"
      ]
     },
     "metadata": {
      "needs_background": "light"
     },
     "output_type": "display_data"
    }
   ],
   "source": [
    "n=1000\n",
    "X=[]\n",
    "Y=[]\n",
    "\n",
    "def Int(m): # m-номер уравнения\n",
    "    a=0\n",
    "    b=1\n",
    "\n",
    "    def F(t):\n",
    "        return f(m,t)\n",
    "\n",
    "    def f38(a,b):\n",
    "        return (b-a)/8*(F(a)+3*F((2*a+b)/3)+3*F((a+2*b)/3)+F(b))\n",
    "\n",
    "    eps=0.01\n",
    "    Iold=np.inf\n",
    "    I=f38(a,b)\n",
    "    N=2\n",
    "    i=0 # i - номер итерации\n",
    "\n",
    "    while abs(I-Iold)/abs(I)>eps:\n",
    "        i+=1\n",
    "        N=N*2\n",
    "        S=np.linspace(a,b,N) # эквидистантное разбиение\n",
    "        h=S[1]-S[0] # шаг разбиения\n",
    "\n",
    "        Iold=I\n",
    "        I=np.sum([f38(ai,ai+h) for ai in S[:-1]])\n",
    "        X.append(i)\n",
    "        Y.append(I)\n",
    "        \n",
    "    return [I,i,'номер уравнения',m]\n",
    "    \n",
    "print(Int(200))\n",
    "\n",
    "plt.plot(X,Y)\n",
    "plt.title('Зависимость значения интеграла от номера итерации для заданного уравнения')\n",
    "plt.show()\n"
   ]
  },
  {
   "cell_type": "code",
   "execution_count": 4,
   "metadata": {},
   "outputs": [
    {
     "data": {
      "image/png": "[encoded data removed]",
      "text/plain": [
       "<Figure size 432x288 with 1 Axes>"
      ]
     },
     "metadata": {
      "needs_background": "light"
     },
     "output_type": "display_data"
    }
   ],
   "source": [
    "Z=[]\n",
    "K=[]\n",
    "for k in range(1,n-1):\n",
    "    K.append(k)\n",
    "    Z.append(Int(k)[0])\n",
    "    k+=1\n",
    "\n",
    "plt.plot(K,Z,color='green')\n",
    "plt.title('Зависимость свободных членов уравнения от номера уравнения')\n",
    "plt.show()"
   ]
  },
  {
   "cell_type": "markdown",
   "metadata": {},
   "source": [
    "## метод прогонки\n",
    "\\begin{equation}\n",
    "x_{i-1}=L_ix_i+M_i \\\\i=2,3,..n\n",
    "\\end{equation}\n",
    "Процесс нахождения коэффициентов $L_i$, $M_i$ назыввается прямым ходом метода\n",
    "\\begin{equation}\n",
    "x_n={{b_nM_n-a_n}\\over{L_na_n+d_n}}\n",
    "\\end{equation}\n",
    "последовательное нахождение $x_{n-1},..x_1$ называется обратным ходом"
   ]
  },
  {
   "cell_type": "code",
   "execution_count": null,
   "metadata": {},
   "outputs": [
    {
     "name": "stdout",
     "output_type": "stream",
     "text": [
      "Число обусловленности СЛАУ 31.187538\n"
     ]
    }
   ],
   "source": [
    "import numpy as np\n",
    "from math import sin, cos, sqrt, exp\n",
    "\n",
    "# n=5\n",
    "# Заполняем матрицы уравнения Ax=b \n",
    "A=np.zeros([n,n], dtype=np.float32) \n",
    "for j in range(1,n-1): \n",
    "    A[j][j]=-(3+sin(j+1)**2*cos(j+1)**5/(j+1+1)) \n",
    "for j in range(1,n-1): \n",
    "    A[j][j-1]=1 \n",
    "    A[j][j+1]=(1+cos(j+1)**2) \n",
    "A[0][0]=1 \n",
    "A[n-1][n-1]=1 \n",
    "A[n-1][n-2]=-0.9\n",
    "# print(A)\n",
    "\n",
    "# Заполнение матрицы b\n",
    "b=np.zeros(n, dtype=np.float32)\n",
    "for j in range(1,n-1):\n",
    "#     def F(t): \n",
    "#         return f(j+1,t) \n",
    "#     print(j)\n",
    "    if n<=1000:\n",
    "        b[j]=Int(j+1)[0]\n",
    "#     else:\n",
    "#         b[j]=-spint.quad(F,0,1)[0] \n",
    "b[0]=1        \n",
    "b[n-1]=1\n",
    "# print('Fill matrix finished')\n",
    "# print(b)\n",
    "\n",
    "print('Число обусловленности СЛАУ %s'%np.linalg.cond(A))\n",
    "\n",
    "# найдем коэффициенты L,M\n",
    "l=np.zeros(n-1)\n",
    "m=np.zeros(n-1)\n",
    "\n",
    "def LM(n,p): #LM[0]-коэффициент Lk, LM[1]-Mk\n",
    "    l[0]=0 \n",
    "    m[0]=0\n",
    "    for k in range(n-2):\n",
    "        m[k+1]=(b[k]-m[k]*A[k,k-1])/(A[k,k-1]*l[k]+A[k,k])\n",
    "        l[k+1]=-A[k,k+1]/(A[k,k-1]*l[k]+A[k,k])\n",
    "#         print(l[k+1],k)\n",
    "    return [l[p-1],m[p-1]]\n",
    "\n",
    "# for i in range(2,n):\n",
    "#     print(i)\n",
    "\n",
    "# print(LM(n,n-1))\n",
    "\n",
    "def findx(n):\n",
    "    x=np.zeros(n)\n",
    "    x[n-1]=(b[n-1]-LM(n,n-1)[1]*A[n-1,n-2])/(LM(n,n-1)[0]*A[n-1,n-2]+A[n-1,n-1])\n",
    "#     print(x[n-1])\n",
    "    for i in range(n-1):\n",
    "        i=n-1-i\n",
    "#         print(i)\n",
    "        x[i-1]=LM(n,i-1)[0]*x[i]+LM(n,i-1)[1]\n",
    "#         print(LM(n,i-1)[0],x[i-1])\n",
    "    return x\n",
    "print(findx(n))\n",
    "print('решение встроенной функцией:',np.linalg.solve(A,b))\n",
    "\n",
    "B_new=A@findx(n)\n",
    "# print(B_new)\n",
    "norm=np.linalg.norm(b-B_new)\n",
    "print(norm)\n"
   ]
  },
  {
   "cell_type": "markdown",
   "metadata": {},
   "source": [
    "## метод наискорейшого спуска"
   ]
  },
  {
   "cell_type": "code",
   "execution_count": null,
   "metadata": {},
   "outputs": [],
   "source": [
    "# Начальное приближение\n",
    "x0=b/np.diag(A)\n",
    "eps=0.001\n",
    "E=np.identity(n)\n",
    "E=np.ones([n,n])\n",
    "\n",
    "AAT=A@A.T\n",
    "R=[]\n",
    "I=[]\n",
    "NORM=[]\n",
    "\n",
    "def findx2(n,x0):\n",
    "    xi=b+1000*eps\n",
    "    ri=np.ones(n)\n",
    "    i=0\n",
    "    while np.linalg.norm(ri)>eps:\n",
    "            R.append(ri)\n",
    "            I.append(i)\n",
    "            NORM.append(np.linalg.norm(x0))\n",
    "            ri=A@x0-b #невязка\n",
    "            AATR=AAT@ri\n",
    "            tayi=np.dot(AATR,ri)/np.dot(AATR,AATR)\n",
    "            xi=x0-(tayi*A.T)@ri\n",
    "            x0=xi\n",
    "            i+=1\n",
    "    x=xi\n",
    "    return [x,i]\n",
    "\n",
    "x=findx2(n,x0)[0]\n",
    "print('найденное решение:',x,'число итераций:',findx2(n,x0)[1])\n",
    "print('решение встроенной функцией:',np.linalg.solve(A,b))\n",
    "\n",
    "B_new=A@x\n",
    "norm=np.linalg.norm(b-B_new)\n",
    "print('норма разностного вектора b:',norm)\n"
   ]
  },
  {
   "cell_type": "code",
   "execution_count": null,
   "metadata": {},
   "outputs": [],
   "source": [
    "# print(I,R)\n",
    "# plt.subplot(2,2,1)\n",
    "plt.plot(I,R)\n",
    "plt.show()\n",
    "# plt.subplot(2,2,2)\n",
    "plt.plot(I,NORM)\n",
    "plt.show()"
   ]
  },
  {
   "cell_type": "code",
   "execution_count": null,
   "metadata": {},
   "outputs": [],
   "source": [
    "XX=[]\n",
    "for i in range(len(x)):\n",
    "    XX.append(x[i])\n",
    "K=np.arange(n)\n",
    "plt.plot(K,XX)\n",
    "plt.title('завсимость решения от i')\n",
    "plt.show()"
   ]
  },
  {
   "cell_type": "code",
   "execution_count": null,
   "metadata": {},
   "outputs": [],
   "source": [
    "b=np.hstack([0,b])\n",
    "d=np.hstack([0,np.diag(A,k=0)])\n",
    "c=np.hstack([0,np.diag(A,k=1)])\n",
    "a=np.hstack([0,0,np.diag(A,k=-1)])\n",
    "\n",
    "def L(n):\n",
    "\tif n==2:\n",
    "\t\treturn -c[1]/d[1]\n",
    "\telse:\n",
    "\t\ti=n-1\n",
    "\t\treturn -c[i]/(a[i]*L(i)+d[i])\n",
    "\n",
    "def M(n):\n",
    "\tif n==2:\n",
    "\t\treturn b[1]/d[1]\n",
    "\telse:\n",
    "\t\ti=n-1\n",
    "\t\treturn (b[i]-M(i)*a[i])/(a[i]*L(i)+d[i])\n",
    "\n",
    "x=np.zeros(n+1)\n",
    "x[n]=(b[n]-M(n)*a[n])/(a[n]*L(n)+d[n])\n",
    "\n",
    "for i in reversed(range(1,n)): # n, n-1, ..., 1\n",
    "\tx[i]=x[i+1]*L(i+1)+M(i+1)\n",
    "\n",
    "# Обрезаем лишний нолик \n",
    "x=x[1:]\n",
    "# print(x)\n",
    "B_new=A@x\n",
    "norm=np.linalg.norm(b-B_new)\n",
    "print('норма разностного вектора b:',norm)"
   ]
  },
  {
   "cell_type": "code",
   "execution_count": null,
   "metadata": {},
   "outputs": [],
   "source": [
    "def matA(n):\n",
    "    for i in range(1,n-1):\n",
    "        for j in range(1,n-1):\n",
    "            if i==j: \n",
    "                k=i+1 #k-номер строки, от 2 до n-1\n",
    "                A[i,j]=-(3+(((sin(k))**2)*(cos(k))**5)/(k+1))\n",
    "            elif i==j-1:\n",
    "                A[i,j+1]=1+(cos(k))**2\n",
    "                A[n-2,n-1]=1+(cos(n-1))**2\n",
    "            elif i==j+1:\n",
    "                A[i,j]=1\n",
    "                A[1,0]=1\n",
    "    return A"
   ]
  }
 ],
 "metadata": {
  "kernelspec": {
   "display_name": "Python 3",
   "language": "python",
   "name": "python3"
  },
  "language_info": {
   "codemirror_mode": {
    "name": "ipython",
    "version": 3
   },
   "file_extension": ".py",
   "mimetype": "text/x-python",
   "name": "python",
   "nbconvert_exporter": "python",
   "pygments_lexer": "ipython3",
   "version": "3.7.0"
  }
 },
 "nbformat": 4,
 "nbformat_minor": 2
}
