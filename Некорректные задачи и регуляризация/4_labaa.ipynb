{
 "cells": [
  {
   "cell_type": "markdown",
   "metadata": {},
   "source": [
    "# **Отчет по лабораторной работе №4**\n",
    "# **Экстремум функции нескольких переменных.**\n",
    "*Выполнил: Майоров Андрей*\n"
   ]
  },
  {
   "cell_type": "markdown",
   "metadata": {},
   "source": [
    "# **Задание:**\n",
    "Найти точку минимума функции\n",
    " $$ f(x_{1},x_{2})=x_{1} ^3 + 6x_{1} ^2 + 9x_{1} + x_{2} ^3 +27x_{2} ^2 +241x_{2} + 715 $$\n",
    " $$ [x_{1}=2,x_{2}=12]. $$\n",
    "методом наискорейшего спуска. Для одномерной минимизации использовать методзолотого сечения. В окрестности точки минимума оценить овражность, построить линии уровня и траекторию поиска (на одномграфике)."
   ]
  },
  {
   "cell_type": "markdown",
   "metadata": {},
   "source": [
    "# Теоретическая часть:"
   ]
  },
  {
   "cell_type": "markdown",
   "metadata": {},
   "source": [
    "**Метод наискорейшего спуска**\n",
    "-------------------------------------------------\n",
    "$В\\;этом\\;методе\\;α_{k}\\;выбирается\\;из\\;услови\\;яминимум\\;афункции\\;f(x)\\;вдоль\\;направления\\;p^k,\\;т.е.$\n",
    "$$ f(x^k + α_{k}p^k)=\\min_{α>0}f(x^k + α_{k}p^k)$$"
   ]
  },
  {
   "cell_type": "markdown",
   "metadata": {},
   "source": [
    "**Метод золотого сечения**\n",
    "-----------------------------------------\n",
    "Поиск с помощью метода золотогосечения основан на разбиении отрезка неопределенности на две части, известном как \"золотое сечение\". При этом отношение длины всего отрезка к большей части равно отношению большей части к меньшей и равно числу\n",
    "$τ=2^{−1}(1+\\sqrt[]{5})\\approx 1.6118$ (τ-корень уравнения $τ^2=1+τ$). В методе золотого сечения точки $α^{1}\\;и\\;α^{2}$ на каждом отрезке неопределенности $[a, b]$ выбираются по правилу $$x^1=b − (b − a)/τ,\\;x^2 = a + (b − a)/τ.$$\n",
    "Показатель эффективности метода равен  $\\;E_{m} = τ^{1−m}$.\n",
    "\n"
   ]
  },
  {
   "cell_type": "markdown",
   "metadata": {},
   "source": [
    "# Практическая часть:"
   ]
  },
  {
   "cell_type": "code",
   "execution_count": 34,
   "metadata": {},
   "outputs": [],
   "source": [
    "import scipy as sp\n",
    "import numpy as np\n",
    "from numpy import *\n",
    "import matplotlib.pyplot as plt\n",
    "from matplotlib import mlab\n",
    "import math\n",
    "import pylab\n",
    "from sympy import *\n",
    "from sympy.core.relational import Relational"
   ]
  },
  {
   "cell_type": "code",
   "execution_count": 35,
   "metadata": {},
   "outputs": [],
   "source": [
    "x1 = Symbol('x1')\n",
    "x2 = Symbol('x2') "
   ]
  },
  {
   "cell_type": "code",
   "execution_count": 36,
   "metadata": {},
   "outputs": [],
   "source": [
    "def gr(a,b,fun):\n",
    "    mas=np.zeros(2)\n",
    "    pr1=diff(fun,x1)\n",
    "    mas[0]=pr1.subs([(x1,a),(x2,b)])\n",
    "    pr2=diff(fun,x2)\n",
    "    mas[1]=pr2.subs([(x1,a),(x2,b)]) \n"
   ]
  },
  {
   "cell_type": "code",
   "execution_count": 37,
   "metadata": {},
   "outputs": [],
   "source": [
    "x10=2\n",
    "x20=12\n",
    "t=1.6118"
   ]
  },
  {
   "cell_type": "code",
   "execution_count": 8,
   "metadata": {},
   "outputs": [],
   "source": [
    "def pd(fc,a,b,x11,x22):\n",
    "    al1=(b-(b-a))/t\n",
    "    al2=(a+(b-a))/t\n",
    "    masshrek=gr(x11,x22,fc)\n",
    "    mas=np.array(masshrek)\n",
    "    p1=mas[0]\n",
    "    p2=mas[1]\n",
    "    a0=a\n",
    "    b0=b\n",
    "    k=fc.subs([(x1,x11+al1*p1),(x2,x22+al1*p2)])\n",
    "    j=fc.subs([(x1,x11+al2*p1),(x2,x22+al2*p2)])\n",
    "    if (k > j):\n",
    "        b=al2\n",
    "    if (k < j):\n",
    "        a=al1\n",
    "    if (k == j):\n",
    "        a=al1\n",
    "        b=al2\n",
    "    while (abs((a-b)/(a0-b0)-1)>t):\n",
    "        a0=a\n",
    "        b0=b\n",
    "        al1=(b-(b-a))/t\n",
    "        al2=(a+(b-a))/t\n",
    "        k=fc.subs([(x1,x11+al1*p1),(x2,x22+al1*p2)])\n",
    "        j=fc.subs([(x1,x11+al2*p1),(x2,x22+al2*p2)])\n",
    "        if (k > j):\n",
    "            b=al2\n",
    "        if (k < j):\n",
    "            a=al1\n",
    "        if (k == j):\n",
    "            a=al1\n",
    "            b=al2"
   ]
  },
  {
   "cell_type": "code",
   "execution_count": 15,
   "metadata": {},
   "outputs": [],
   "source": [
    "def quick(fc,x10,x20,a,b):\n",
    "    al=pd(fc,a,b,x10,x20)\n",
    "    masshrek=gr(x10,x20,fc)\n",
    "    mas=np.array(masshrek)\n",
    "    p1=mas[0]\n",
    "    p2=mas[1]\n",
    "    x11=x10+p1*al1\n",
    "    x22=x20+p2*al2\n",
    "    poisk=[]\n",
    "    poisk.append([x10,x20])\n",
    "    poisk.append([x11,x22])\n",
    "    i=0\n",
    "    while(fc.subs([(x1,x11),(x2,x22)])<fc.subs([(x1,x10),(x2,x20)])):\n",
    "        i+=1\n",
    "        x10=x11\n",
    "        x20=x22\n",
    "        poisk.append([x10,x20])\n",
    "        al=pd(fc,0,100,x10,x20)\n",
    "        masshrek=gr(x10,x20,fc)\n",
    "        mas=np.array(masshrek)\n",
    "        p1=mas[0]\n",
    "        p2=mas[1]\n",
    "        x11=x10+p1*al1\n",
    "        x22=x20+p2*al2\n",
    "    print(\"Кол-во итераций:\",i)"
   ]
  },
  {
   "cell_type": "markdown",
   "metadata": {},
   "source": [
    "**Оценка овражности**\n"
   ]
  },
  {
   "cell_type": "code",
   "execution_count": 13,
   "metadata": {},
   "outputs": [
    {
     "ename": "NameError",
     "evalue": "name 'mas2' is not defined",
     "output_type": "error",
     "traceback": [
      "\u001b[1;31m---------------------------------------------------------------------------\u001b[0m",
      "\u001b[1;31mNameError\u001b[0m                                 Traceback (most recent call last)",
      "\u001b[1;32m<ipython-input-13-02c0f76a25c0>\u001b[0m in \u001b[0;36m<module>\u001b[1;34m()\u001b[0m\n\u001b[1;32m----> 1\u001b[1;33m \u001b[0mx\u001b[0m \u001b[1;33m=\u001b[0m \u001b[0mmas2\u001b[0m\u001b[1;33m[\u001b[0m\u001b[0mlen\u001b[0m\u001b[1;33m(\u001b[0m\u001b[0mmas2\u001b[0m\u001b[1;33m)\u001b[0m\u001b[1;33m-\u001b[0m\u001b[1;36m1\u001b[0m\u001b[1;33m]\u001b[0m\u001b[1;33m\u001b[0m\u001b[0m\n\u001b[0m\u001b[0;32m      2\u001b[0m \u001b[0mqes\u001b[0m \u001b[1;33m=\u001b[0m \u001b[0mnp\u001b[0m\u001b[1;33m.\u001b[0m\u001b[0mzeros\u001b[0m\u001b[1;33m(\u001b[0m\u001b[1;33m(\u001b[0m\u001b[1;36m2\u001b[0m\u001b[1;33m,\u001b[0m\u001b[1;36m2\u001b[0m\u001b[1;33m)\u001b[0m\u001b[1;33m)\u001b[0m\u001b[1;33m\u001b[0m\u001b[0m\n\u001b[0;32m      3\u001b[0m \u001b[0mqes\u001b[0m\u001b[1;33m[\u001b[0m\u001b[1;36m0\u001b[0m\u001b[1;33m]\u001b[0m\u001b[1;33m[\u001b[0m\u001b[1;36m0\u001b[0m\u001b[1;33m]\u001b[0m\u001b[1;33m=\u001b[0m\u001b[1;33m-\u001b[0m\u001b[1;33m(\u001b[0m\u001b[0mx\u001b[0m\u001b[1;33m[\u001b[0m\u001b[1;36m1\u001b[0m\u001b[1;33m]\u001b[0m\u001b[1;33m*\u001b[0m\u001b[1;33m(\u001b[0m\u001b[0mx\u001b[0m\u001b[1;33m[\u001b[0m\u001b[1;36m0\u001b[0m\u001b[1;33m]\u001b[0m\u001b[1;33m)\u001b[0m\u001b[1;33m**\u001b[0m\u001b[1;33m(\u001b[0m\u001b[1;33m-\u001b[0m\u001b[1;36m1.5\u001b[0m\u001b[1;33m)\u001b[0m\u001b[1;33m)\u001b[0m\u001b[1;33m/\u001b[0m\u001b[1;36m4\u001b[0m\u001b[1;33m\u001b[0m\u001b[0m\n\u001b[0;32m      4\u001b[0m \u001b[0mqes\u001b[0m\u001b[1;33m[\u001b[0m\u001b[1;36m0\u001b[0m\u001b[1;33m]\u001b[0m\u001b[1;33m[\u001b[0m\u001b[1;36m1\u001b[0m\u001b[1;33m]\u001b[0m\u001b[1;33m=\u001b[0m\u001b[1;36m1\u001b[0m\u001b[1;33m/\u001b[0m\u001b[1;33m(\u001b[0m\u001b[1;36m2\u001b[0m\u001b[1;33m*\u001b[0m\u001b[1;33m(\u001b[0m\u001b[0mx\u001b[0m\u001b[1;33m[\u001b[0m\u001b[1;36m0\u001b[0m\u001b[1;33m]\u001b[0m\u001b[1;33m)\u001b[0m\u001b[1;33m**\u001b[0m\u001b[1;33m(\u001b[0m\u001b[1;36m0.5\u001b[0m\u001b[1;33m)\u001b[0m\u001b[1;33m)\u001b[0m\u001b[1;33m\u001b[0m\u001b[0m\n\u001b[0;32m      5\u001b[0m \u001b[0mqes\u001b[0m\u001b[1;33m[\u001b[0m\u001b[1;36m1\u001b[0m\u001b[1;33m]\u001b[0m\u001b[1;33m[\u001b[0m\u001b[1;36m0\u001b[0m\u001b[1;33m]\u001b[0m\u001b[1;33m=\u001b[0m\u001b[1;36m1\u001b[0m\u001b[1;33m/\u001b[0m\u001b[1;33m(\u001b[0m\u001b[1;36m2\u001b[0m\u001b[1;33m*\u001b[0m\u001b[1;33m(\u001b[0m\u001b[0mx\u001b[0m\u001b[1;33m[\u001b[0m\u001b[1;36m0\u001b[0m\u001b[1;33m]\u001b[0m\u001b[1;33m)\u001b[0m\u001b[1;33m**\u001b[0m\u001b[1;33m(\u001b[0m\u001b[1;36m0.5\u001b[0m\u001b[1;33m)\u001b[0m\u001b[1;33m)\u001b[0m\u001b[1;33m\u001b[0m\u001b[0m\n",
      "\u001b[1;31mNameError\u001b[0m: name 'mas2' is not defined"
     ]
    }
   ],
   "source": [
    "x = mas2[len(mas2)-1]\n",
    "qes = np.zeros((2,2))\n",
    "qes[0][0]=-(x[1]*(x[0])**(-1.5))/4\n",
    "qes[0][1]=1/(2*(x[0])**(0.5))\n",
    "qes[1][0]=1/(2*(x[0])**(0.5))\n",
    "qes[1][1]=-2\n",
    "print(qes)\n",
    "sch = np.linalg.eig(qes)\n",
    "print(sch[0])\n",
    "print(\"Овражность:\", sch[0][0]/sch[0][1])"
   ]
  },
  {
   "cell_type": "code",
   "execution_count": 14,
   "metadata": {},
   "outputs": [
    {
     "ename": "NameError",
     "evalue": "name 'mas2' is not defined",
     "output_type": "error",
     "traceback": [
      "\u001b[1;31m---------------------------------------------------------------------------\u001b[0m",
      "\u001b[1;31mNameError\u001b[0m                                 Traceback (most recent call last)",
      "\u001b[1;32m<ipython-input-14-df53e1f5fdef>\u001b[0m in \u001b[0;36m<module>\u001b[1;34m()\u001b[0m\n\u001b[0;32m      2\u001b[0m \u001b[1;32mfrom\u001b[0m \u001b[0mmatplotlib\u001b[0m \u001b[1;32mimport\u001b[0m \u001b[0mmlab\u001b[0m\u001b[1;33m\u001b[0m\u001b[0m\n\u001b[0;32m      3\u001b[0m \u001b[0mfig\u001b[0m \u001b[1;33m=\u001b[0m \u001b[0mplt\u001b[0m\u001b[1;33m.\u001b[0m\u001b[0mfigure\u001b[0m\u001b[1;33m(\u001b[0m\u001b[0mfigsize\u001b[0m \u001b[1;33m=\u001b[0m \u001b[1;33m(\u001b[0m\u001b[1;36m10\u001b[0m\u001b[1;33m,\u001b[0m\u001b[1;36m11\u001b[0m\u001b[1;33m)\u001b[0m\u001b[1;33m)\u001b[0m\u001b[1;33m\u001b[0m\u001b[0m\n\u001b[1;32m----> 4\u001b[1;33m \u001b[0mxlist\u001b[0m \u001b[1;33m=\u001b[0m \u001b[0mmas2\u001b[0m\u001b[1;33m[\u001b[0m\u001b[1;33m:\u001b[0m\u001b[1;33m,\u001b[0m\u001b[1;36m0\u001b[0m\u001b[1;33m]\u001b[0m\u001b[1;33m\u001b[0m\u001b[0m\n\u001b[0m\u001b[0;32m      5\u001b[0m \u001b[0mylist\u001b[0m \u001b[1;33m=\u001b[0m \u001b[0mmas2\u001b[0m\u001b[1;33m[\u001b[0m\u001b[1;33m:\u001b[0m\u001b[1;33m,\u001b[0m\u001b[1;36m1\u001b[0m\u001b[1;33m]\u001b[0m\u001b[1;33m\u001b[0m\u001b[0m\n\u001b[0;32m      6\u001b[0m \u001b[0mplt\u001b[0m\u001b[1;33m.\u001b[0m\u001b[0mxlabel\u001b[0m\u001b[1;33m(\u001b[0m\u001b[1;34m'x'\u001b[0m\u001b[1;33m)\u001b[0m\u001b[1;33m\u001b[0m\u001b[0m\n",
      "\u001b[1;31mNameError\u001b[0m: name 'mas2' is not defined"
     ]
    },
    {
     "data": {
      "text/plain": [
       "<Figure size 720x792 with 0 Axes>"
      ]
     },
     "metadata": {},
     "output_type": "display_data"
    }
   ],
   "source": [
    "#линии уровня\n",
    "import matplotlib.pyplot as plt\n",
    "from matplotlib import mlab\n",
    "fig = plt.figure(figsize = (10,11))\n",
    "xlist = mas2[:,0]\n",
    "ylist = mas2[:,1]\n",
    "plt.xlabel('x')\n",
    "plt.ylabel('y')\n",
    "plt.title('Траектория поиска')\n",
    "pylab.plot (xlist, ylist)\n",
    "plt.grid(True)\n",
    "x=np.linspace(0,15,1000)\n",
    "y=np.linspace(0,7,1000)\n",
    "X, Y=np.meshgrid(x,y)\n",
    "Z=X**3+6*X**2+9*X+Y**3+27*Y**2+241*Y+715\n",
    "plt.contour(X, Y, Z, 100)"
   ]
  },
  {
   "cell_type": "code",
   "execution_count": null,
   "metadata": {},
   "outputs": [],
   "source": []
  }
 ],
 "metadata": {
  "kernelspec": {
   "display_name": "Python 3",
   "language": "python",
   "name": "python3"
  },
  "language_info": {
   "codemirror_mode": {
    "name": "ipython",
    "version": 3
   },
   "file_extension": ".py",
   "mimetype": "text/x-python",
   "name": "python",
   "nbconvert_exporter": "python",
   "pygments_lexer": "ipython3",
   "version": "3.6.5"
  }
 },
 "nbformat": 4,
 "nbformat_minor": 2
}
