{
 "cells": [
  {
   "cell_type": "markdown",
   "metadata": {},
   "source": [
    "# *Лабораторная работа* №5\n",
    "## Выполнила Разова Анна 430 группа\n",
    "### Вариант №6\n",
    "\n",
    "Цель: \n",
    "1. Вычислить интеграл по квадратурной формуле Симпсона с относительной точностью 0.01;\n",
    "2. Построить график подынтегральной функции и график зависимости значения интеграла от номера интерации;\n",
    "3. Построить график зависимости свободных членов системы от числа уравнений;\n",
    "4. Решить систему уравнений методом минимальной невязки с относительной точностью 0.001;\n",
    "5. Определить число обусловленности линейной системы;\n",
    "6. Построить график решения $\\bar{x}=${$x_1,x_2,...,x_n$} от i;\n",
    "7. Построить график зависимости невязки от i;\n",
    "8. Построить график зависимости нормы решения от номера интерации.\n",
    "\n",
    "\n"
   ]
  },
  {
   "cell_type": "markdown",
   "metadata": {},
   "source": [
    "*Данная система:*\n",
    "$$\n",
    "\\begin{cases}\n",
    "x_1=1\\\\\n",
    "x_{i-1}-(4+\\frac{sin2i}{10+i})x_i+x_{i+1}=-1+\\int_0^1\\frac{cos(2t+1)dt}{1+it^2}\\\\\n",
    "x_n=1\\\\\n",
    "\\end{cases},\\qquad i=2,3,\\ldots,n-1\n",
    "$$\n",
    "\n",
    "*Импортиртируем необходимые библиотеки:*"
   ]
  },
  {
   "cell_type": "code",
   "execution_count": 2,
   "metadata": {},
   "outputs": [],
   "source": [
    "import numpy as np\n",
    "from numpy import abs,sqrt,cos,sin\n",
    "import matplotlib.pyplot as plt  \n",
    "import scipy.integrate as spint"
   ]
  },
  {
   "cell_type": "markdown",
   "metadata": {},
   "source": [
    "Далее введём подынтегральную функцию:"
   ]
  },
  {
   "cell_type": "code",
   "execution_count": 3,
   "metadata": {},
   "outputs": [],
   "source": [
    "def f(t,i):\n",
    "    return np.cos(2*t+1)/(1+i*t**2)"
   ]
  },
  {
   "cell_type": "markdown",
   "metadata": {},
   "source": [
    "## Метод Симпсона\n",
    "В данной работе интеграл считался по квадратурной формуле Симпсона с относительной точностью 0.001.\n",
    "\n",
    "Задача вычисления интеграла Римана состоит в замене вычисления интеграла \n",
    "$$I=\\int_\\alpha^\\beta f(x)dx \\qquad (1)$$ \n",
    "алгоритмом из конечного числа операций. Интеграл (1) можно рассматривать как оператор \n",
    "$$A[f]=\\int_\\alpha^\\beta f(x)dx \\qquad (2)$$ \n",
    "имеющий областью определения пространство $H_{[\\alpha,\\beta]}$, а областью значений просьранство $R_1$.\n",
    "\n",
    "Оператор А аппроксимируют последовательностью конечномерных операторов $A_n$, имеющих областью определения пространство $R_n$, а областью значений пространство $R_1$.\n",
    "ООператор А задаётся формулой:\n",
    "$$A_n[f_n]=\\sum_{i=1}^n C_i^{(n)} f(x_i^{(n)}) \\qquad (3)$$\n",
    "Данная формула называется квадратурной формулой, определяемой весовыми коэффициентами $C_i^{(n)}$ и узлами $x_i^{(n)}$ сетки $w_n$. Элемент $f_n$ пространства $R_n$ называют сеточной функцией, заданной на  сетке $w_n$.\n",
    "\n",
    "Пусть задано пространство $H_{[\\alpha,\\beta]}$ и натуральное число n. Требуется среди всех квадратурных формул вида $\\sum_{i=1}^n C_i^{(n)} f_i$ определить такую, чтобы величина верхней грани\n",
    "$$sup_{f\\in H_{[\\alpha,\\beta]} }|\\int_\\alpha^\\beta f(x)dx - \\sum_{i=1}^n C_i^{(n)} f_i|, \\qquad (4)$$\n",
    "являлась наименьшей. \n",
    "\n",
    "Речь идёт о таком выборе на отрезке $[\\alpha,\\beta]$ узлов сетки $x_i\\in w_n$ и весовых коэффициентов $C_i^{(n)}$, при котором приближённое значение интеграла, даваемое квадратурной формулой, было наилучшим.\n",
    "Предположим, что интегрируемая функция принадлежит классу $C_{[\\alpha,\\beta]}$ и задана сетка $w_n$ отрезка $[\\alpha,\\beta]$. \n",
    "\n",
    "Рассмотрим задачу восстановления элемента $f\\in H_{[\\alpha,\\beta]} $ по заданной сеточной функции $ f_n\\in R_n $. Известно, что задача решается просто при помощи интерполяционных многочленов. Так в случае $ H_{[\\alpha,\\beta]} =C_{[\\alpha,\\beta]}^{n+1}$, выбирая в качестве интерполяционного многочлена многочлен Лангранжа, будем иметь \n",
    "$$ f(x)=\\sum_{k=0}^n f(x_k^{(n)}) \\prod_{i=0,i\\neq k}^n \\frac{x-x_i^{(n)}}{x_k^{(n)}-x_i^{(n)}}  + \\frac{f^{n+1}(\\psi)}{(n+1)!} \\prod_{i=0}^n (x-x_i^{(n)}).\\qquad (5)$$\n",
    "\n",
    "Подставляя (5) в (1), будем иметь\n",
    "$$\\int_\\alpha^\\beta f(x)dx = \\sum_{k=0}^n f(x_k^{(n)})\\int_\\alpha^\\beta \\prod_{i=0,i\\neq k}^n \\frac{x-x_i^{(n)}}{x_k^{(n)}-x_i^{(n)}} dx + \\frac{f^{n+1}(\\psi)}{(n+1)!} \\int_\\alpha^\\beta \\prod_{i=0}^n (x-x_i^{(n)})dx\\qquad (6)$$\n",
    "или\n",
    "$$\\int_\\alpha^\\beta f(x)dx = \\sum_{k=0}^n C_k^{(n)} f(x_k^{(n)}) + R_n[f], \\qquad (7)$$\n",
    "где\n",
    "$$C_k^{(n)}=\\int_\\alpha^\\beta \\prod_{i=0,i\\neq k}^n \\frac{x-x_i^{(n)}}{x_k^{(n)}-x_i^{(n)}} dx,\\qquad (8)$$\n",
    "$$R_n[f]=\\frac{f^{n+1}(\\psi)}{(n+1)!} \\int_\\alpha^\\beta \\prod_{i=0}^n (x-x_i^{(n)})dx.\\qquad (9)$$\n",
    "Первое слагаемое в правой части (7) называется квадратурной формулой Ньютона-Котеса, второе - остаточным членом.\n",
    "\n",
    "При n=2 формула Ньютона-Котеса называется квадратурной формулой Симпсона. Она выглядит следующим образом:\n",
    "$$\\sum_{k=0}^2 C_k^{(2)} f(x_k^{(2)})=\\frac {\\beta-\\alpha}{6} (f(\\alpha) +4f(\\frac{\\beta+\\alpha}{2})+f(\\beta)).\\qquad (10)$$"
   ]
  },
  {
   "cell_type": "code",
   "execution_count": 4,
   "metadata": {},
   "outputs": [],
   "source": [
    "def integral(f,alpha,beta,e):\n",
    "    S=10**9\n",
    "    S0=0\n",
    "    N=1\n",
    "    ii=0\n",
    "    r=[]\n",
    "    q=[]\n",
    "    while abs(S-S0)>e:\n",
    "        N=N*2\n",
    "        ii=ii+1\n",
    "        h=(beta-alpha)/N\n",
    "     #   x=np.linespace(alpha,beta,N+1)\n",
    "        t=np.arange(alpha,beta,h)\n",
    "        S0=S\n",
    "       # S=np.sum([(t[j+1]-t[j])/6*(f(t[j],i)+4*f(((t[j+1]+t[j])*0.5),i)+f(t[j+1],i))] for j in range(1,len(t)))\n",
    "        S=0\n",
    "        for j in range(0,len(t)-1):\n",
    "            a=0.5*t[j+1]+0.5*t[j]\n",
    "            dS=(t[j+1]-t[j])/6*(f(t[j],i)+4*f(a,i)+f(t[j+1],i))\n",
    "            S+=dS\n",
    "        r.append(S)\n",
    "        q.append(ii)\n",
    "    return S,ii,r,q\n",
    "\n",
    "\n",
    "alpha=0\n",
    "beta=1\n",
    "e=0.01\n",
    "i=100\n",
    "\n"
   ]
  },
  {
   "cell_type": "markdown",
   "metadata": {},
   "source": [
    "Далее стоим необходимые графики.\n",
    "\n",
    "График подынтегральной функции при i=35."
   ]
  },
  {
   "cell_type": "code",
   "execution_count": 5,
   "metadata": {},
   "outputs": [
    {
     "data": {
      "image/png": "[encoded data removed]",
      "text/plain": [
       "<Figure size 432x288 with 1 Axes>"
      ]
     },
     "metadata": {
      "needs_background": "light"
     },
     "output_type": "display_data"
    }
   ],
   "source": [
    "i=35\n",
    "t=np.arange(-10,10,0.5)\n",
    "F=f(t,i)\n",
    "plt.plot(t,F)\n",
    "plt.show()"
   ]
  },
  {
   "cell_type": "markdown",
   "metadata": {},
   "source": [
    "График значения интеграла от номера интерации при i=35."
   ]
  },
  {
   "cell_type": "code",
   "execution_count": 6,
   "metadata": {},
   "outputs": [
    {
     "data": {
      "image/png": "[encoded data removed]",
      "text/plain": [
       "<Figure size 432x288 with 1 Axes>"
      ]
     },
     "metadata": {
      "needs_background": "light"
     },
     "output_type": "display_data"
    }
   ],
   "source": [
    "i=35\n",
    "Q=integral(f,alpha,beta,e)[3]\n",
    "R=integral(f,alpha,beta,e)[2]\n",
    "plt.plot(Q,R)\n",
    "plt.show()\n",
    "#print(Q,R)"
   ]
  },
  {
   "cell_type": "markdown",
   "metadata": {},
   "source": [
    "График зависимости свободных членов от i."
   ]
  },
  {
   "cell_type": "code",
   "execution_count": 7,
   "metadata": {},
   "outputs": [
    {
     "data": {
      "image/png": "[encoded data removed]",
      "text/plain": [
       "<Figure size 432x288 with 1 Axes>"
      ]
     },
     "metadata": {
      "needs_background": "light"
     },
     "output_type": "display_data"
    }
   ],
   "source": [
    "n=30\n",
    "SS=[]\n",
    "for i in range(1,n):\n",
    "#    F=f(t,i)\n",
    "    p=integral(f,alpha,beta,e)[0]\n",
    "    pp=p-1\n",
    "    SS.append(pp)\n",
    "\n",
    "plt.plot(SS)\n",
    "plt.show()"
   ]
  },
  {
   "cell_type": "markdown",
   "metadata": {},
   "source": [
    "## Метод минимальной невязки.\n",
    "\n",
    "Пусть необходимо решить систему алгебраических уравнений\n",
    "$$ \n",
    "a_{11}x_1+...+a_{1n}x_n=b_1\\\\\n",
    "...........................\\\\\n",
    "a_{n1}x_1+...+a_{nn}x_n=b_n\\\\\n",
    "\\qquad (1)$$\n",
    "или в матричной форме \n",
    "$$ Ax=b, \\qquad (2)$$\n",
    "где А={$a_{ij}$} невырожденная ($n\\times n$)-матрица, x={$x_i$} - n-вектор (столбец) неизвестных, b={$b_i$}-заданный n-вектор.\n",
    "\n",
    "В данной работе система решается интерационным методом, а именно: методом минимальной невязки.\n",
    "\n",
    "Интерационными называют приближённые методы, в которых решение системы (1) получаются как предел последовательности векторов $\\{x^k\\}_{k=1}^{\\infty}$, каждый последующий элемент которой вычисляется по некоторому единому правилу. Начальный элемент $x^1$ выбирается произвольно. Интерация $x^k$ является с точностью $\\epsilon$ приближённым решением системы (1),если\n",
    "$$||x^k-x^0||\\leq \\epsilon, \\qquad (3)$$\n",
    "где $x^0$ - точное решение системы (1).\n",
    "\n",
    "Для интерационного метода решения системы (1) существует такая последовательность невырожденных матриц $H_k$, к=1,2,..., что правило построения элементов итерационной последовательности записывается в виде\n",
    "$$x^{k+1}=x^k-H_k(Ax^k-b). \\qquad (4)$$\n",
    "Запишем (4) в виде\n",
    "$$x^{k+1}=T_kx^k+H_kb, \\qquad (5)$$\n",
    " где $T_k=E-H_kE$, Е-единичная (n$\\times$ n)-матрица. Вектор $ \\phi^k=x^k-x^0$ называется вектором ошибки, а вектор $r^k=Ax^k-b$- вектором невязки.\n",
    "\n",
    "В методе минимальной невязки \n",
    "$$H_k=\\tau_kE, \\qquad (6)$$\n",
    "$$T_k=E-\\tau_kA. \\qquad (7)$$\n",
    "Невязка на (k+1)-ом шаге равна $r^k=Ax^k -f$.\n",
    "\n",
    "Параметр $\\tau _k$ выбирается из условия минимума нормы невязки на (k+1)-ом шаге и имеет вид\n",
    "$$\\tau_k=\\frac{(Ar^k,r^k)}{(Ar^k,Ar^k)}. \\qquad (8)$$\n",
    "Процесс (5) имеет вид \n",
    "$$x^{k+1}=(E-\\tau_kA)x^k+\\tau_kEb. \\qquad (9)$$"
   ]
  },
  {
   "cell_type": "code",
   "execution_count": 8,
   "metadata": {},
   "outputs": [],
   "source": [
    "def коэффициент(i):\n",
    "    if (i==1)|(i==n):\n",
    "        return 1\n",
    "    else:\n",
    "        return -(4+sin(2*i)/(10+i))\n",
    "\n",
    "def b(i):\n",
    "#    inteps=0.01\n",
    "    # подинтегральная функция для конкретного i\n",
    "    def F(t):\n",
    "        return f(i,t)\n",
    "    return -1+integral(f,alpha,beta,e)[0]\n",
    "\n",
    "\n",
    "# Заполняем матрицы уравнения Ax=b\n",
    "def lin(n):\n",
    "    A=np.zeros([n,n])\n",
    "    for j in range(0,n):\n",
    "        A[j][j]=коэффициент(j+1)\n",
    "    for j in range(1,n-1):\n",
    "        A[j][j-1]=A[j][j+1]=1\n",
    "\n",
    "    B=np.ones(n)\n",
    "    for j in range(1,n-1):\n",
    "        B[j]=b(j+1)\n",
    "\n",
    "# Начальное приближение\n",
    "    x=B\n",
    "    ee=0.001\n",
    "    xold=B+10*ee\n",
    "    E=np.identity(n)\n",
    "\n",
    "# Итерационный процесс\n",
    "    N=0\n",
    "    H=[]\n",
    "    NN=[]\n",
    "    while np.linalg.norm(x-xold)/np.linalg.norm(xold)>ee:\n",
    "        N=N+1\n",
    "        r=A@x-B\n",
    "        tau=((A@r)@r)/((A@r)@(A@r))\n",
    "        xold=x\n",
    "        x=(E-tau*A)@x+(tau*E)@B\n",
    "        h=np.linalg.norm(x)\n",
    "        H.append(h)\n",
    "        NN.append(N)\n",
    "    return x,H,NN,A,B,N,r\n",
    "\n",
    "n=100\n",
    "result=lin(n)\n",
    "#print(np.linalg.norm(lin(n)[6]))\n",
    "#Сравнение нормы нашего решения и решения встроенной функцией.\n",
    "# print(result[0][-1])\n",
    "# print('Наше решение:',np.linalg.norm(result[0]),'(','Количество интераций:',result)[5],\"'\")\n",
    "# print('Решение встроенной функцией:',np.linalg.norm(np.linalg.solve(result[3],result[4])))"
   ]
  },
  {
   "cell_type": "markdown",
   "metadata": {},
   "source": [
    "Находим обусловленность системы."
   ]
  },
  {
   "cell_type": "code",
   "execution_count": 1,
   "metadata": {},
   "outputs": [],
   "source": [
    "# print(np.linalg.cond(result[3]))"
   ]
  },
  {
   "cell_type": "markdown",
   "metadata": {},
   "source": [
    "Далее строим необходимые графики."
   ]
  },
  {
   "cell_type": "markdown",
   "metadata": {},
   "source": [
    "График решения $\\bar{x}={(x_1,x_2,...,x_n)}$ от i."
   ]
  },
  {
   "cell_type": "code",
   "execution_count": null,
   "metadata": {},
   "outputs": [
    {
     "name": "stderr",
     "output_type": "stream",
     "text": [
      "c:\\program files\\python37\\lib\\site-packages\\ipykernel_launcher.py:40: RuntimeWarning: invalid value encountered in double_scalars\n"
     ]
    }
   ],
   "source": [
    "for w in range(1,1000):\n",
    "#    kk=np.linalg.solve(lin(w)[3],lin(w)[4])\n",
    "    k=lin(w)[0]\n",
    "k=[lin(w)[0] for w in range(1,1000)]\n",
    "plt.plot(k)    \n",
    "#plt.plot(kk)\n",
    "plt.show()"
   ]
  },
  {
   "cell_type": "markdown",
   "metadata": {},
   "source": [
    "График зависимости невязки от i."
   ]
  },
  {
   "cell_type": "code",
   "execution_count": null,
   "metadata": {},
   "outputs": [],
   "source": [
    "for w in range(1,n):\n",
    "    k=lin(w)[6]\n",
    "plt.plot(k)    \n",
    "plt.show()"
   ]
  },
  {
   "cell_type": "markdown",
   "metadata": {},
   "source": [
    "График зависимости нормы решения от номера интерации."
   ]
  },
  {
   "cell_type": "code",
   "execution_count": null,
   "metadata": {},
   "outputs": [],
   "source": [
    "plt.plot(lin(1000)[2],lin(1000)[1])\n",
    "plt.show()"
   ]
  },
  {
   "cell_type": "markdown",
   "metadata": {},
   "source": [
    "Данная программа работает и при 10000 уравнений."
   ]
  },
  {
   "cell_type": "code",
   "execution_count": null,
   "metadata": {},
   "outputs": [],
   "source": [
    "print('Наше решение:',np.linalg.norm(lin(10000)[0]),'(','Количество интераций:',lin(10000)[5],')')\n",
    "print('Решение встроенной функцией:',np.linalg.norm(np.linalg.solve(lin(10000)[3],lin(10000)[4])))"
   ]
  },
  {
   "cell_type": "code",
   "execution_count": null,
   "metadata": {},
   "outputs": [],
   "source": []
  }
 ],
 "metadata": {
  "kernelspec": {
   "display_name": "Python 3",
   "language": "python",
   "name": "python3"
  },
  "language_info": {
   "codemirror_mode": {
    "name": "ipython",
    "version": 3
   },
   "file_extension": ".py",
   "mimetype": "text/x-python",
   "name": "python",
   "nbconvert_exporter": "python",
   "pygments_lexer": "ipython3",
   "version": "3.7.0"
  }
 },
 "nbformat": 4,
 "nbformat_minor": 2
}
