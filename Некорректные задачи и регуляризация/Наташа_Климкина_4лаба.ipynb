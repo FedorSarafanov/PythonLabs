{
 "cells": [
  {
   "cell_type": "markdown",
   "metadata": {},
   "source": [
    "# Отчёт по лабораторной работе №4\n",
    "## Выполнила: Климкина Наталья\n",
    "### Вариант 20\n",
    "Найти точку $\\underline{минимума}$ функции\n",
    "\n",
    "\\begin{equation}\n",
    "f(x_1,x_2)= x^4_1+2x^2_1x^2_2+12x^2_1x_2+18x^2_1+x_1+x^4_2+12x^3_2+55x^2_2+114x_2+76\n",
    "\\end{equation}\n",
    "\n",
    "Начальная точка: $[x_1=1, x_2=1]$\n",
    " методом сопряженных градиентов. Для одномерной минимизации использовать метод золотого сечения.\n",
    "\n",
    "В окрестности точки минимума оценить овражность, построить линии уровня и траекторию поиска (на одном графике).\n",
    "\n"
   ]
  },
  {
   "cell_type": "markdown",
   "metadata": {},
   "source": [
    "## Поиск экстремума функции нескольких переменных\n",
    "\n",
    "Рассмотрим задачу нахождения безусловного минимума функции $f(x)$ векторного аргумента $x={x_1, x_2, ..., x_n}$, заданной на всем пространстве $R^n$, символически записываемую в виде: $$f(x)\\rightarrow~min,x\\in R^n.$$\n",
    "\n",
    "Напомним, что точка $\\bar{x}$ называется точкой локального минимума в данной задаче, если существует число $\\epsilon>0$ такое, что для всех $x$, удовлетворяющих условию $||x-\\bar{x}||\\leq \\epsilon$ выполнено неравенство $f(x)\\geq f(\\bar{x})$; здесь и далее $||x||=(x_1^2+...+x_n^2)^{1/2}$. Точка  $\\bar{x}$ называется точкой глобального минимума в данной задаче, если $f(\\bar{x})\\leq f(x), x\\in R^n.$ \n",
    "\n",
    "Для численного решения задачи обычно строят некоторую последовательность векторов $\\{x^k\\}_{k=o}^{\\infty}$, обрывая процесс построения тогда, когда появляется уверенность, что последний из постренныхэлементов последовательности близок к точке минимума в том илиином смысле. Например, если элемент $x^k$ удовлетворяет неравенству $||x^k-\\bar{x}||< \\bar{\\delta}$, где $\\bar{x}$ - точка минимума задачи, $\\bar{\\delta}$ - некоторое положительное число, то говорят, что $x^k$ есть приближенное решение задачи с тчностью $\\bar{\\delta}$ по аргументу. Если же выполняется неравенство $|f(x^k)-\\bar{f} |<\\bar{\\delta}$, где $\\bar{f}$ - минимальное значение функции $f(x)$ в $R^n$, то говорят, что число $f(x^k)$ даст приближенное решение задачи с точностью $\\bar{\\delta}$ по функции. \n",
    "\n",
    "   Большинство процессов, используемых для приближенного решения задачи можно представить как итерационные в виде $$x^{k+1}=x^k+\\alpha_k p^k,$$ где $p^k$ - вектор, определяющий направление движения от точки $x^{k}$ к точке $x^{k+1}$, $\\alpha_k$ - числовой множитель, величина которого задаетдлину шага в направлении $p^k$. В различных итерационных процессах такого типа для нахождения $\\alpha_k$ и $p^k$ привлекаются различные сведения о минимизируемой функции $f(x)$. Процессы, использующиедля этого только значения самой функции, называются процессами нулевого порядка или методами поиска. Процессы, требующие вычисления производных $f(x)$ до m-го порядка включительно, называют процессами m-го порядка. Если для определения $\\alpha_k$ и $p^k$ используется информация, полученная на S предыдущих итерациях, то итерационный процесс называется S-шаговым.\n",
    "\n",
    "В качестве направления $p^k$ естественно выбирать направление убывания функции $f(x)$. Такое направление называют направлением спуска. Метод называют методом спуска, если при каждом k направление $p^k$ - направление спуска, а число $\\alpha_k$ таково, что $$f(x^{k+1})=f(x^k+\\alpha_k p^k)<f(x^k).$$\n",
    "\n",
    "Важной характеристикой итерационного процесса является скорость сходимости итерационной последовательности. Пусть итерационная последовательность $\\{x^k\\}_{k=o}^{\\infty}$ сходится к $\\bar{x}$, т.е. $$||x^k-\\bar{x}||\\rightarrow 0, k\\rightarrow \\infty.$$\n",
    "\n",
    "Говорят, что скорость сходимости последовательности\n",
    "\n",
    " 1) линейна, если существует число $q∈(0,1)$ такое, что $$||x^{k+1}-\\bar{x} ||\\leq q||x^{k}-\\bar{x}||, k=0,1,2,...;$$\n",
    " 2)  сверхлинейна,  если  существует  последовательность  чисел $\\{q_k\\}_{k=1}^{\\infty}, q_k\\rightarrow, k \\rightarrow \\infty$ такая, что $$||x^{k+1}-\\bar{x} ||\\leq q_k||x^{k}-\\bar{x}||, k=0,1,2,...;$$\n",
    " 3) квадратична, если существует постоянная C >0 такая, что $$||x^{k+1}-\\bar{x} ||\\leq C||x^{k}-\\bar{x}||^2, k=0,1,2,... .$$\n",
    " \n",
    " ## Метод сопряженных градиентов\n",
    " В этом методе $\\alpha_k$ выбирается из условия:\n",
    " \\begin{equation}\n",
    " f(x^k+\\alpha_k p_k)=\\min_{\\alpha>0} f(x^k+\\alpha p_k)\n",
    " \\end{equation}\n",
    " \n",
    " При этом вектор $p^k$ Зависит не только от градиента функции $f(x^k)$, но и от градинта в предыдущей точке $\\nabla f(x^{k-1})$  и строится по правилу\n",
    "  \\begin{equation}\n",
    " p^k=-\\nabla f(x_k)+\\beta_kp^{k-1}\n",
    " \\end{equation}\n",
    " \\begin{equation}\n",
    " \\beta_0=0, \\beta_k=\\frac{(\\nabla f(x^k),\\nabla f(x^k)-\\nabla f(x^{k-1}) )}\n",
    "  {||\\nabla f(x^{k-1})||^2}\n",
    " \\end{equation}"
   ]
  },
  {
   "cell_type": "code",
   "execution_count": 3,
   "metadata": {},
   "outputs": [],
   "source": [
    "import matplotlib.pyplot as plt\n",
    "from sympy import symbols,diff\n",
    "from numpy.linalg import norm,eig\n",
    "from numpy import dot,zeros,array,pi,ones,float64,linspace,sqrt,min,max,append,arange,meshgrid\n",
    "\n",
    "n=2\n",
    "x=symbols('x0:'+str(n))\n",
    "symf=x[0]**4+2*x[0]**2*x[1]**2+12*x[0]**2*x[1]+18*x[0]**2+\\\n",
    "\t\tx[0]+x[1]**4+12*x[1]**3+55*x[1]**2+114*x[1]+76\n",
    "\n",
    "def Fi(x):\n",
    "\tx=array(x).T\n",
    "\treturn x[0]**4+2*x[0]**2*x[1]**2+12*x[0]**2*x[1]+18*x[0]**2+\\\n",
    "\t\tx[0]+x[1]**4+12*x[1]**3+55*x[1]**2+114*x[1]+76\n",
    "\n",
    "def grad(arr):\n",
    "\targ = {x[i]: arr[i] for i in range(0,n)}\n",
    "\treturn array([diff(symf,x[i]).subs(arg) for i in range(0,n)], dtype=float64)\n",
    "\n",
    "def f(arr):\n",
    "\targ = {x[i]: arr[i] for i in range(0,n)}\n",
    "\treturn float(symf.subs(arg))\n",
    "\n",
    "def gessian(arr):\n",
    "\targ = {x[i]: arr[i] for i in range(0,n)}\n",
    "\treturn array([[diff(symf,x[i],x[j]).subs(arg) for i in range(0,n)] for j in range(0,n)], dtype=float64)"
   ]
  },
  {
   "cell_type": "code",
   "execution_count": 4,
   "metadata": {},
   "outputs": [],
   "source": [
    "# Ищет первую точку минимума a0 функции F(x)\n",
    "def scroll_find_unimod_max(F):\n",
    "\th=0.07\n",
    "\ta0=0\n",
    "\twhile not ((F(a0-h)>F(a0))&(F(a0+h)>F(a0))):\n",
    "\t\tif F(a0+h)>F(a0):\n",
    "\t\t\ta0=a0-h/2\n",
    "\t\telse:\n",
    "\t\t\ta0=a0+h/2\n",
    "\treturn a0\n"
   ]
  },
  {
   "cell_type": "code",
   "execution_count": 5,
   "metadata": {},
   "outputs": [],
   "source": [
    "# Ищет точку минимума функции f(x) на отрезке a,b\n",
    "phi = 0.5 * (1.0 + sqrt(5.0))\n",
    "def minimize(f,a,b): \n",
    "\teps=0.005\n",
    "\tif abs(b-a)<eps: \n",
    "\t\treturn (a+b)/2\n",
    "\telse:\n",
    "\t\tt=(b-a)/phi\n",
    "\t\tx1=b-t\n",
    "\t\tx2=a+t\n",
    "\t\tif f(x1)>=f(x2):\n",
    "\t\t\treturn minimize(f,x1,b)\n",
    "\t\telse:\n",
    "\t\t\treturn minimize(f,a,x2)\n"
   ]
  },
  {
   "cell_type": "code",
   "execution_count": 6,
   "metadata": {},
   "outputs": [],
   "source": [
    "epsilon = 0.0001 #Точность\n",
    "pk=zeros(n) # В начале шаг неизвестен, будет нулевой\n",
    "betak=0 # На нулевом шаге beta=0\n",
    "xk=array([1,1]) # Начальная точка xk=x0\n",
    "xk_old=ones(n)*10**3 # Предыдущая точка. Так как в начале не задана, зададим очень далеко, чтобы запустился цикл\n",
    "X=[]\n",
    "i=0\n"
   ]
  },
  {
   "cell_type": "code",
   "execution_count": 7,
   "metadata": {},
   "outputs": [
    {
     "data": {
      "image/png": "[encoded data removed]",
      "text/plain": [
       "<Figure size 432x288 with 1 Axes>"
      ]
     },
     "metadata": {
      "needs_background": "light"
     },
     "output_type": "display_data"
    },
    {
     "name": "stdout",
     "output_type": "stream",
     "text": [
      "Итераций:  24\n",
      "[-0.63844008 -2.96169055] - точка минимума функции\n",
      "-14.469631459788673 - минимум функции\n"
     ]
    }
   ],
   "source": [
    "while norm(xk-xk_old)>epsilon:\n",
    "\ti+=1\n",
    "\tpk=(-grad(xk)+betak*pk)\n",
    "\tpk/=norm(pk)\n",
    "\tdef F(alpha):\n",
    "\t\treturn f(xk+alpha*pk)\n",
    "\n",
    "\talphak=minimize(F,0,scroll_find_unimod_max(F))\n",
    "\n",
    "\txk_old=xk\n",
    "\tX.append(xk)\n",
    "\txk=xk+alphak*pk\n",
    "\n",
    "\tbetak=dot(grad(xk),grad(xk)-grad(xk-xk_old))/norm(xk_old)**2\n",
    "    \n",
    "RANGE=arange(-10,10,0.1)\n",
    "XX,YY=meshgrid(RANGE,RANGE)\n",
    "F=Fi(array([XX,YY]).T)\n",
    "plt.contour(XX,YY,F,10) # Построение графиков\n",
    "plt.plot(array(X).T[0], array(X).T[1],'-r') # Построение графиков\n",
    "plt.show()\n",
    "\n",
    "print('Итераций: ',i)\n",
    "print(xk,'- точка минимума функции')\n",
    "print(f(xk),'- минимум функции')\n",
    "\n"
   ]
  },
  {
   "cell_type": "markdown",
   "metadata": {},
   "source": [
    "## Оценка овражности функции в точке минимума"
   ]
  },
  {
   "cell_type": "markdown",
   "metadata": {},
   "source": [
    "\n",
    "Оценим овражность функции $f(x,y)$ в области минимума функции. \n",
    "\n",
    "По определению, под показателем овражности $k$ функции $f(x)$ в окрестности точки  $(x',y')$ подразумевают отношение наибольшего собственного числа матрицы Гессе $\\nabla^2 f(x',y')$ к наименьшему.\n",
    " \n",
    "Чем больше этот показатель, тем более вытянутым и крутым является \"овраг\" поверхности уровня исследуемой функции в окрестности $(x',y')$ и тем медленнее сходятся в этой окрестности градиентные итерационные методы.\n"
   ]
  },
  {
   "cell_type": "code",
   "execution_count": 8,
   "metadata": {},
   "outputs": [
    {
     "name": "stdout",
     "output_type": "stream",
     "text": [
      "Коэффициент овражности k= 1.362\n"
     ]
    }
   ],
   "source": [
    "P=eig(gessian(xk))[0] # Собственные значения матрицы Гессе\n",
    "k=abs(max(P)/min(P)) # Коэфф. овражности\n",
    "print('Коэффициент овражности k=',round(k,3))"
   ]
  },
  {
   "cell_type": "code",
   "execution_count": null,
   "metadata": {},
   "outputs": [],
   "source": []
  },
  {
   "cell_type": "code",
   "execution_count": null,
   "metadata": {},
   "outputs": [],
   "source": []
  }
 ],
 "metadata": {
  "kernelspec": {
   "display_name": "Python 3",
   "language": "python",
   "name": "python3"
  },
  "language_info": {
   "codemirror_mode": {
    "name": "ipython",
    "version": 3
   },
   "file_extension": ".py",
   "mimetype": "text/x-python",
   "name": "python",
   "nbconvert_exporter": "python",
   "pygments_lexer": "ipython3",
   "version": "3.7.0"
  }
 },
 "nbformat": 4,
 "nbformat_minor": 2
}
